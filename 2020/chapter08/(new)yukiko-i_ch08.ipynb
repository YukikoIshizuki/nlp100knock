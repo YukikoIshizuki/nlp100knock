{
 "cells": [
  {
   "cell_type": "code",
   "execution_count": null,
   "metadata": {},
   "outputs": [],
   "source": []
  },
  {
   "cell_type": "markdown",
   "metadata": {},
   "source": [
    "## 50 データの入手・整形"
   ]
  },
  {
   "cell_type": "markdown",
   "metadata": {},
   "source": [
    "News Aggregator Data Setをダウンロードし、以下の要領で学習データ（train.txt），検証データ（valid.txt），評価データ（test.txt）を作成せよ．\n",
    "\n",
    "ダウンロードしたzipファイルを解凍し，readme.txtの説明を読む． 情報源（publisher）が”Reuters”, “Huffington Post”, “Businessweek”, “Contactmusic.com”, “Daily Mail”の事例（記事）のみを抽出する． 抽出された事例をランダムに並び替える． 抽出された事例の80%を学習データ，残りの10%ずつを検証データと評価データに分割し，それぞれtrain.txt，valid.txt，test.txtというファイル名で保存する．ファイルには，１行に１事例を書き出すこととし，カテゴリ名と記事見出しのタブ区切り形式とせよ（このファイルは後に問題70で再利用する）． 学習データと評価データを作成したら，各カテゴリの事例数を確認せよ．"
   ]
  },
  {
   "cell_type": "code",
   "execution_count": 1,
   "metadata": {
    "collapsed": true,
    "jupyter": {
     "outputs_hidden": true
    }
   },
   "outputs": [
    {
     "name": "stdout",
     "output_type": "stream",
     "text": [
      "showing info https://raw.githubusercontent.com/nltk/nltk_data/gh-pages/index.xml\n"
     ]
    },
    {
     "ename": "KeyboardInterrupt",
     "evalue": "",
     "output_type": "error",
     "traceback": [
      "\u001b[0;31m---------------------------------------------------------------------\u001b[0m",
      "\u001b[0;31mKeyboardInterrupt\u001b[0m                   Traceback (most recent call last)",
      "\u001b[0;32m<ipython-input-1-3b02390c7677>\u001b[0m in \u001b[0;36m<module>\u001b[0;34m()\u001b[0m\n\u001b[1;32m      1\u001b[0m \u001b[0;32mimport\u001b[0m \u001b[0mnltk\u001b[0m\u001b[0;34m\u001b[0m\u001b[0;34m\u001b[0m\u001b[0m\n\u001b[0;32m----> 2\u001b[0;31m \u001b[0mnltk\u001b[0m\u001b[0;34m.\u001b[0m\u001b[0mdownload\u001b[0m\u001b[0;34m(\u001b[0m\u001b[0;34m)\u001b[0m\u001b[0;34m\u001b[0m\u001b[0;34m\u001b[0m\u001b[0m\n\u001b[0m",
      "\u001b[0;32m~/.pyenv/versions/anaconda3-5.3.0/lib/python3.7/site-packages/nltk/downloader.py\u001b[0m in \u001b[0;36mdownload\u001b[0;34m(self, info_or_id, download_dir, quiet, force, prefix, halt_on_error, raise_on_error)\u001b[0m\n\u001b[1;32m    659\u001b[0m             \u001b[0;31m# function should make a new copy of self to use?\u001b[0m\u001b[0;34m\u001b[0m\u001b[0;34m\u001b[0m\u001b[0;34m\u001b[0m\u001b[0m\n\u001b[1;32m    660\u001b[0m             \u001b[0;32mif\u001b[0m \u001b[0mdownload_dir\u001b[0m \u001b[0;32mis\u001b[0m \u001b[0;32mnot\u001b[0m \u001b[0;32mNone\u001b[0m\u001b[0;34m:\u001b[0m \u001b[0mself\u001b[0m\u001b[0;34m.\u001b[0m\u001b[0m_download_dir\u001b[0m \u001b[0;34m=\u001b[0m \u001b[0mdownload_dir\u001b[0m\u001b[0;34m\u001b[0m\u001b[0;34m\u001b[0m\u001b[0m\n\u001b[0;32m--> 661\u001b[0;31m             \u001b[0mself\u001b[0m\u001b[0;34m.\u001b[0m\u001b[0m_interactive_download\u001b[0m\u001b[0;34m(\u001b[0m\u001b[0;34m)\u001b[0m\u001b[0;34m\u001b[0m\u001b[0;34m\u001b[0m\u001b[0m\n\u001b[0m\u001b[1;32m    662\u001b[0m             \u001b[0;32mreturn\u001b[0m \u001b[0;32mTrue\u001b[0m\u001b[0;34m\u001b[0m\u001b[0;34m\u001b[0m\u001b[0m\n\u001b[1;32m    663\u001b[0m \u001b[0;34m\u001b[0m\u001b[0m\n",
      "\u001b[0;32m~/.pyenv/versions/anaconda3-5.3.0/lib/python3.7/site-packages/nltk/downloader.py\u001b[0m in \u001b[0;36m_interactive_download\u001b[0;34m(self)\u001b[0m\n\u001b[1;32m    980\u001b[0m         \u001b[0;32mif\u001b[0m \u001b[0mTKINTER\u001b[0m\u001b[0;34m:\u001b[0m\u001b[0;34m\u001b[0m\u001b[0;34m\u001b[0m\u001b[0m\n\u001b[1;32m    981\u001b[0m             \u001b[0;32mtry\u001b[0m\u001b[0;34m:\u001b[0m\u001b[0;34m\u001b[0m\u001b[0;34m\u001b[0m\u001b[0m\n\u001b[0;32m--> 982\u001b[0;31m                 \u001b[0mDownloaderGUI\u001b[0m\u001b[0;34m(\u001b[0m\u001b[0mself\u001b[0m\u001b[0;34m)\u001b[0m\u001b[0;34m.\u001b[0m\u001b[0mmainloop\u001b[0m\u001b[0;34m(\u001b[0m\u001b[0;34m)\u001b[0m\u001b[0;34m\u001b[0m\u001b[0;34m\u001b[0m\u001b[0m\n\u001b[0m\u001b[1;32m    983\u001b[0m             \u001b[0;32mexcept\u001b[0m \u001b[0mTclError\u001b[0m\u001b[0;34m:\u001b[0m\u001b[0;34m\u001b[0m\u001b[0;34m\u001b[0m\u001b[0m\n\u001b[1;32m    984\u001b[0m                 \u001b[0mDownloaderShell\u001b[0m\u001b[0;34m(\u001b[0m\u001b[0mself\u001b[0m\u001b[0;34m)\u001b[0m\u001b[0;34m.\u001b[0m\u001b[0mrun\u001b[0m\u001b[0;34m(\u001b[0m\u001b[0;34m)\u001b[0m\u001b[0;34m\u001b[0m\u001b[0;34m\u001b[0m\u001b[0m\n",
      "\u001b[0;32m~/.pyenv/versions/anaconda3-5.3.0/lib/python3.7/site-packages/nltk/downloader.py\u001b[0m in \u001b[0;36mmainloop\u001b[0;34m(self, *args, **kwargs)\u001b[0m\n\u001b[1;32m   1715\u001b[0m \u001b[0;34m\u001b[0m\u001b[0m\n\u001b[1;32m   1716\u001b[0m     \u001b[0;32mdef\u001b[0m \u001b[0mmainloop\u001b[0m\u001b[0;34m(\u001b[0m\u001b[0mself\u001b[0m\u001b[0;34m,\u001b[0m \u001b[0;34m*\u001b[0m\u001b[0margs\u001b[0m\u001b[0;34m,\u001b[0m \u001b[0;34m**\u001b[0m\u001b[0mkwargs\u001b[0m\u001b[0;34m)\u001b[0m\u001b[0;34m:\u001b[0m\u001b[0;34m\u001b[0m\u001b[0;34m\u001b[0m\u001b[0m\n\u001b[0;32m-> 1717\u001b[0;31m         \u001b[0mself\u001b[0m\u001b[0;34m.\u001b[0m\u001b[0mtop\u001b[0m\u001b[0;34m.\u001b[0m\u001b[0mmainloop\u001b[0m\u001b[0;34m(\u001b[0m\u001b[0;34m*\u001b[0m\u001b[0margs\u001b[0m\u001b[0;34m,\u001b[0m \u001b[0;34m**\u001b[0m\u001b[0mkwargs\u001b[0m\u001b[0;34m)\u001b[0m\u001b[0;34m\u001b[0m\u001b[0;34m\u001b[0m\u001b[0m\n\u001b[0m\u001b[1;32m   1718\u001b[0m \u001b[0;34m\u001b[0m\u001b[0m\n\u001b[1;32m   1719\u001b[0m     \u001b[0;31m#/////////////////////////////////////////////////////////////////\u001b[0m\u001b[0;34m\u001b[0m\u001b[0;34m\u001b[0m\u001b[0;34m\u001b[0m\u001b[0m\n",
      "\u001b[0;32m~/.pyenv/versions/anaconda3-5.3.0/lib/python3.7/tkinter/__init__.py\u001b[0m in \u001b[0;36mmainloop\u001b[0;34m(self, n)\u001b[0m\n\u001b[1;32m   1281\u001b[0m     \u001b[0;32mdef\u001b[0m \u001b[0mmainloop\u001b[0m\u001b[0;34m(\u001b[0m\u001b[0mself\u001b[0m\u001b[0;34m,\u001b[0m \u001b[0mn\u001b[0m\u001b[0;34m=\u001b[0m\u001b[0;36m0\u001b[0m\u001b[0;34m)\u001b[0m\u001b[0;34m:\u001b[0m\u001b[0;34m\u001b[0m\u001b[0;34m\u001b[0m\u001b[0m\n\u001b[1;32m   1282\u001b[0m         \u001b[0;34m\"\"\"Call the mainloop of Tk.\"\"\"\u001b[0m\u001b[0;34m\u001b[0m\u001b[0;34m\u001b[0m\u001b[0m\n\u001b[0;32m-> 1283\u001b[0;31m         \u001b[0mself\u001b[0m\u001b[0;34m.\u001b[0m\u001b[0mtk\u001b[0m\u001b[0;34m.\u001b[0m\u001b[0mmainloop\u001b[0m\u001b[0;34m(\u001b[0m\u001b[0mn\u001b[0m\u001b[0;34m)\u001b[0m\u001b[0;34m\u001b[0m\u001b[0;34m\u001b[0m\u001b[0m\n\u001b[0m\u001b[1;32m   1284\u001b[0m     \u001b[0;32mdef\u001b[0m \u001b[0mquit\u001b[0m\u001b[0;34m(\u001b[0m\u001b[0mself\u001b[0m\u001b[0;34m)\u001b[0m\u001b[0;34m:\u001b[0m\u001b[0;34m\u001b[0m\u001b[0;34m\u001b[0m\u001b[0m\n\u001b[1;32m   1285\u001b[0m         \u001b[0;34m\"\"\"Quit the Tcl interpreter. All widgets will be destroyed.\"\"\"\u001b[0m\u001b[0;34m\u001b[0m\u001b[0;34m\u001b[0m\u001b[0m\n",
      "\u001b[0;31mKeyboardInterrupt\u001b[0m: "
     ]
    }
   ],
   "source": [
    "import nltk\n",
    "nltk.download()"
   ]
  },
  {
   "cell_type": "code",
   "execution_count": 2,
   "metadata": {},
   "outputs": [],
   "source": [
    "def extract_data(input_file):\n",
    "    target_publisher_set = {\"Reuters\", \"Huffington Post\", \"Businessweek\", \"Contactmusic.com\", \"Daily Mail\"}\n",
    "    extracted_data = []\n",
    "    with open(input_file, \"r\") as fi:\n",
    "        for line in fi:\n",
    "            data = line.rstrip(\"\\n\").split(\"\\t\")\n",
    "            publisher = data[3]\n",
    "            if publisher in target_publisher_set:\n",
    "                extracted_data.append(data)\n",
    "\n",
    "    return extracted_data"
   ]
  },
  {
   "cell_type": "code",
   "execution_count": 9,
   "metadata": {},
   "outputs": [],
   "source": [
    "extracted_data = extract_data(\"./data/newsCorpora.csv\")"
   ]
  },
  {
   "cell_type": "code",
   "execution_count": 10,
   "metadata": {},
   "outputs": [],
   "source": [
    "import random\n",
    "import os\n",
    "from sklearn.model_selection import train_test_split\n",
    "\n",
    "\n",
    "def split_data(extracted_data, output_dir):\n",
    "    random.shuffle(extracted_data)\n",
    "    train_data, valid_and_test_data = train_test_split(extracted_data, test_size=0.2)\n",
    "    valid_data, test_data = train_test_split(valid_and_test_data, test_size=0.5)\n",
    "    train_file = os.path.join(output_dir, \"train.txt\")\n",
    "    valid_file = os.path.join(output_dir, \"valid.txt\")\n",
    "    test_file = os.path.join(output_dir, \"test.txt\")\n",
    "    with open(train_file, \"w\") as fo:\n",
    "        for data in train_data:\n",
    "            fo.write(\"{}\\t{}\\n\".format(data[4], data[1]))\n",
    "    with open(valid_file, \"w\") as fo:\n",
    "        for data in valid_data:\n",
    "            fo.write(\"{}\\t{}\\n\".format(data[4], data[1]))\n",
    "    with open(test_file, \"w\") as fo:\n",
    "        for data in test_data:\n",
    "            fo.write(\"{}\\t{}\\n\".format(data[4], data[1]))"
   ]
  },
  {
   "cell_type": "code",
   "execution_count": 11,
   "metadata": {},
   "outputs": [],
   "source": [
    "split_data(extracted_data, \"work\")"
   ]
  },
  {
   "cell_type": "markdown",
   "metadata": {},
   "source": [
    "## 70 単語ベクトルの和による特徴量"
   ]
  },
  {
   "cell_type": "markdown",
   "metadata": {},
   "source": [
    "問題50で構築した学習データ，検証データ，評価データを行列・ベクトルに変換したい．例えば，学習データについて，すべての事例xiの特徴ベクトルxiを並べた行列Xと，正解ラベルを並べた行列（ベクトル）Yを作成したい．"
   ]
  },
  {
   "cell_type": "code",
   "execution_count": 34,
   "metadata": {},
   "outputs": [],
   "source": [
    "import numpy as np\n",
    "from nltk.tokenize import word_tokenize\n",
    "\n",
    "def convert_dataset_to_vector(word_vectors_model, input_file, label2id, x_output_file, y_output_file):\n",
    "    x_vectors = []\n",
    "    y_vectors = []\n",
    "    \n",
    "    with open(input_file, \"r\") as fi:\n",
    "        for line in fi:\n",
    "            text, label = line.rstrip(\"\\n\").split(\"\\t\")\n",
    "            tokens = word_tokenize(text)\n",
    "            vectors = []\n",
    "            for token in tokens:\n",
    "                try: # 単語ベクトルの中に含まれているものだけ抽出\n",
    "                    vector = word_vectors_model[token]\n",
    "                    vectors.append(vector)\n",
    "                except KeyError:\n",
    "                    continue\n",
    "            if not vectors:\n",
    "                continue\n",
    "            ave_vector = np.mean(vectors, axis=0)\n",
    "            x_vectors.append(ave_vector)\n",
    "            label_id = label2id[label]\n",
    "            y_vectors.append(label_id)\n",
    "        x_vectors = np.array(x_vectors)\n",
    "        y_vectors = np.array(y_vectors)\n",
    "        \n",
    "    print(\"x shape:{}\\ty shape:{}\".format(x_vectors.shape, y_vectors.shape))\n",
    "    np.save(x_output_file, x_vectors)\n",
    "    np.save(y_output_file, y_vectors)"
   ]
  },
  {
   "cell_type": "code",
   "execution_count": 35,
   "metadata": {},
   "outputs": [],
   "source": [
    "from gensim.models import KeyedVectors\n",
    "word_vectors_path = './data/GoogleNews-vectors-negative300.bin'\n",
    "word_vectors_model = KeyedVectors.load_word2vec_format(word_vectors_path, binary=True)"
   ]
  },
  {
   "cell_type": "code",
   "execution_count": 36,
   "metadata": {},
   "outputs": [],
   "source": [
    "label2id = {\"b\":0, \"t\":1, \"e\":2, \"m\":3}"
   ]
  },
  {
   "cell_type": "code",
   "execution_count": 37,
   "metadata": {},
   "outputs": [
    {
     "name": "stdout",
     "output_type": "stream",
     "text": [
      "x shape:(10684, 300)\ty shape:(10684,)\n",
      "x shape:(1336, 300)\ty shape:(1336,)\n",
      "x shape:(1336, 300)\ty shape:(1336,)\n"
     ]
    }
   ],
   "source": [
    "convert_dataset_to_vector(word_vectors_model, \"./data/train.txt\", label2id, \"./work/train_x.npy\", \"./work/train_y.npy\")\n",
    "convert_dataset_to_vector(word_vectors_model, \"./data/valid.txt\", label2id, \"./work/valid_x.npy\", \"./work/valid_y.npy\")\n",
    "convert_dataset_to_vector(word_vectors_model, \"./data/test.txt\", label2id, \"./work/test_x.npy\", \"./work/test_y.npy\")"
   ]
  },
  {
   "cell_type": "markdown",
   "metadata": {},
   "source": [
    "## 71. 単層ニューラルネットワークによる予測"
   ]
  },
  {
   "cell_type": "code",
   "execution_count": 38,
   "metadata": {},
   "outputs": [],
   "source": [
    "import numpy as np\n",
    "import torch\n",
    "import torch.nn as nn\n",
    "\n",
    "class Model(nn.Module):\n",
    "    def __init__(self, input_dim, num_class):\n",
    "        super(Model, self).__init__()\n",
    "        self.l1 = nn.Linear(input_dim, num_class, bias=False)\n",
    "\n",
    "    def forward(self, x):\n",
    "        logit = self.l1(x)\n",
    "        return logit"
   ]
  },
  {
   "cell_type": "code",
   "execution_count": 39,
   "metadata": {},
   "outputs": [],
   "source": [
    "model = Model(input_dim=300, num_class=4)\n",
    "train_x = np.load(\"./work/train_x.npy\")\n",
    "train_y = np.load(\"./work/train_y.npy\")\n",
    "train_x = torch.from_numpy(train_x)\n",
    "train_y = torch.from_numpy(train_y)\n",
    "softmax = nn.Softmax(dim=-1)"
   ]
  },
  {
   "cell_type": "code",
   "execution_count": 40,
   "metadata": {},
   "outputs": [
    {
     "name": "stdout",
     "output_type": "stream",
     "text": [
      "tensor([0.2463, 0.2474, 0.2631, 0.2432], grad_fn=<SoftmaxBackward>)\n"
     ]
    }
   ],
   "source": [
    "y = softmax(model.forward(train_x[0]))\n",
    "print(y)"
   ]
  },
  {
   "cell_type": "code",
   "execution_count": 41,
   "metadata": {},
   "outputs": [
    {
     "name": "stdout",
     "output_type": "stream",
     "text": [
      "tensor([[0.2463, 0.2474, 0.2631, 0.2432],\n",
      "        [0.2433, 0.2523, 0.2641, 0.2404],\n",
      "        [0.2546, 0.2586, 0.2533, 0.2334],\n",
      "        [0.2569, 0.2462, 0.2579, 0.2390]], grad_fn=<SoftmaxBackward>)\n"
     ]
    }
   ],
   "source": [
    "y = softmax(model.forward(train_x[:4]))\n",
    "print(y)"
   ]
  },
  {
   "cell_type": "markdown",
   "metadata": {},
   "source": [
    "## 72. 損失と勾配の計算"
   ]
  },
  {
   "cell_type": "code",
   "execution_count": 42,
   "metadata": {},
   "outputs": [],
   "source": [
    "import numpy as np\n",
    "import torch\n",
    "import torch.nn as nn\n",
    "\n",
    "\n",
    "class Model(nn.Module):\n",
    "    def __init__(self, input_dim, num_class):\n",
    "        super(Model, self).__init__()\n",
    "        self.l1 = nn.Linear(input_dim, num_class, bias=False)\n",
    "\n",
    "    def forward(self, x):\n",
    "        logit = self.l1(x)\n",
    "        return logit"
   ]
  },
  {
   "cell_type": "code",
   "execution_count": 43,
   "metadata": {},
   "outputs": [],
   "source": [
    "model = Model(input_dim=300, num_class=4)\n",
    "train_x = np.load(\"./work/train_x.npy\")\n",
    "train_y = np.load(\"./work/train_y.npy\")\n",
    "train_x = torch.from_numpy(train_x)\n",
    "train_y = torch.from_numpy(train_y)"
   ]
  },
  {
   "cell_type": "code",
   "execution_count": 44,
   "metadata": {},
   "outputs": [
    {
     "name": "stdout",
     "output_type": "stream",
     "text": [
      "tensor(1.3753, grad_fn=<NllLossBackward>)\n",
      "tensor([[-0.0362, -0.0386,  0.0032,  ...,  0.0012, -0.0091,  0.0117],\n",
      "        [ 0.0194,  0.0118,  0.0119,  ..., -0.0111,  0.0052,  0.0020],\n",
      "        [ 0.0029,  0.0008, -0.0059,  ...,  0.0058,  0.0012, -0.0024],\n",
      "        [ 0.0138,  0.0260, -0.0093,  ...,  0.0042,  0.0028, -0.0113]])\n"
     ]
    }
   ],
   "source": [
    "loss_func = nn.CrossEntropyLoss(reduction='mean')\n",
    "logit = model.forward(train_x[:4])\n",
    "loss = loss_func(logit, train_y[:4])\n",
    "print(loss)\n",
    "loss.backward()\n",
    "print(model.l1.weight.grad)"
   ]
  },
  {
   "cell_type": "markdown",
   "metadata": {},
   "source": [
    "## 73. 確率的勾配降下法による学習"
   ]
  },
  {
   "cell_type": "code",
   "execution_count": 45,
   "metadata": {},
   "outputs": [],
   "source": [
    "from torch import optim\n",
    "\n",
    "\n",
    "def train(output_file, num_epoch, train_x_file, train_y_file, learning_rate):\n",
    "    train_x = np.load(train_x_file)\n",
    "    train_y = np.load(train_y_file)\n",
    "    train_x = torch.from_numpy(train_x)\n",
    "    train_y = torch.from_numpy(train_y)\n",
    "    train_dataset = torch.utils.data.TensorDataset(train_x, train_y)\n",
    "    train_iter = torch.utils.data.DataLoader(train_dataset)\n",
    "    model = Model(input_dim=300, num_class=4)\n",
    "    loss_func = nn.CrossEntropyLoss(reduction='mean')\n",
    "    optimizer = optim.SGD(model.parameters(), lr=learning_rate)\n",
    "    #訓練\n",
    "    for epoch in range(1, num_epoch+1):\n",
    "        total_loss = 0\n",
    "        for x, y in train_iter:\n",
    "            optimizer.zero_grad()\n",
    "            logit = model.forward(x)\n",
    "            loss = loss_func(logit, y)\n",
    "            total_loss += loss.item()\n",
    "            loss.backward()\n",
    "            optimizer.step()\n",
    "        ave_loss = total_loss / len(train_x)\n",
    "        print(\"Epoch:{}\\tave_loss:{}\".format(epoch, ave_loss))\n",
    "    torch.save(model.state_dict(), output_file)"
   ]
  },
  {
   "cell_type": "code",
   "execution_count": 46,
   "metadata": {},
   "outputs": [
    {
     "name": "stdout",
     "output_type": "stream",
     "text": [
      "Epoch:1\tave_loss:0.6828608990943538\n",
      "Epoch:2\tave_loss:0.47088235313140053\n",
      "Epoch:3\tave_loss:0.41033400815531706\n",
      "Epoch:4\tave_loss:0.37844074632326846\n",
      "Epoch:5\tave_loss:0.3582469477335565\n",
      "Epoch:6\tave_loss:0.34403683642118316\n",
      "Epoch:7\tave_loss:0.33333511975064123\n",
      "Epoch:8\tave_loss:0.3248883714403976\n",
      "Epoch:9\tave_loss:0.3179894401943489\n",
      "Epoch:10\tave_loss:0.3122065503517621\n"
     ]
    }
   ],
   "source": [
    "train(\"./work/model.pt\", 10, \"./work/train_x.npy\", \"./work/train_y.npy\", 0.01)"
   ]
  },
  {
   "cell_type": "markdown",
   "metadata": {},
   "source": [
    "## 74. 正解率の計測"
   ]
  },
  {
   "cell_type": "code",
   "execution_count": 47,
   "metadata": {},
   "outputs": [],
   "source": [
    "from sklearn.metrics import accuracy_score\n",
    "\n",
    "\n",
    "def evaluate(model_file, x_file, y_file):\n",
    "    x_data = np.load(x_file)\n",
    "    y_data = np.load(y_file)\n",
    "    x_data = torch.from_numpy(x_data)\n",
    "    y_data = torch.from_numpy(y_data)\n",
    "    dataset = torch.utils.data.TensorDataset(x_data, y_data)\n",
    "    data_iter = torch.utils.data.DataLoader(dataset)\n",
    "    model = Model(input_dim=300, num_class=4)\n",
    "    model.load_state_dict(torch.load(model_file)) # 訓練済みのモデルをロード\n",
    "    softmax = nn.Softmax(dim=-1)\n",
    "    gold_labels = []\n",
    "    pred_labels = []\n",
    "    for x, y in data_iter:\n",
    "        logit = model.forward(x)\n",
    "        pred_label = torch.argmax(softmax(logit), dim=-1)\n",
    "        pred_labels.append(pred_label)\n",
    "        gold_labels.append(y)\n",
    "    accuracy = accuracy_score(gold_labels, pred_labels)\n",
    "    \n",
    "    return accuracy"
   ]
  },
  {
   "cell_type": "code",
   "execution_count": 48,
   "metadata": {},
   "outputs": [
    {
     "name": "stdout",
     "output_type": "stream",
     "text": [
      "train accuracy:0.8964807188318982\n",
      "test accuracy:0.8952095808383234\n"
     ]
    }
   ],
   "source": [
    "train_acc = evaluate(\"./work/model.pt\", \"./work/train_x.npy\", \"./work/train_y.npy\")\n",
    "print(\"train accuracy:{}\".format(train_acc))\n",
    "test_acc = evaluate(\"./work/model.pt\", \"./work/test_x.npy\", \"./work/test_y.npy\")\n",
    "print(\"test accuracy:{}\".format(test_acc))"
   ]
  },
  {
   "cell_type": "markdown",
   "metadata": {},
   "source": [
    "## 75. 損失と正解率のプロット"
   ]
  },
  {
   "cell_type": "code",
   "execution_count": 49,
   "metadata": {},
   "outputs": [],
   "source": [
    "import torch.nn as nn\n",
    "from sklearn.metrics import accuracy_score\n",
    "    \n",
    "\n",
    "def calc_loss_and_accuracy(model, loss_func, dataset):\n",
    "    softmax = nn.Softmax(dim=-1)\n",
    "    gold_labels = []\n",
    "    pred_labels = []\n",
    "    total_loss = 0\n",
    "    for x, y in dataset:\n",
    "        logit = model.forward(x)\n",
    "        loss = loss_func(logit, y)\n",
    "        total_loss += loss.item()\n",
    "        pred_label = torch.argmax(softmax(logit), dim=-1)\n",
    "        pred_labels.append(pred_label)\n",
    "        gold_labels.append(y)\n",
    "    ave_loss = total_loss / len(dataset)\n",
    "    accuracy = accuracy_score(gold_labels, pred_labels)\n",
    "    \n",
    "    return ave_loss, accuracy\n",
    "    \n",
    "    \n",
    "def train(num_epoch, learning_rate, train_x_file, train_y_file, valid_x_file, valid_y_file, output_file, log_file):\n",
    "    train_x = np.load(train_x_file)\n",
    "    train_y = np.load(train_y_file)\n",
    "    valid_x = np.load(valid_x_file)\n",
    "    valid_y = np.load(valid_y_file)\n",
    "    train_x = torch.from_numpy(train_x)\n",
    "    train_y = torch.from_numpy(train_y)\n",
    "    valid_x = torch.from_numpy(valid_x)\n",
    "    valid_y = torch.from_numpy(valid_y)\n",
    "    train_dataset = torch.utils.data.TensorDataset(train_x, train_y)\n",
    "    valid_dataset = torch.utils.data.TensorDataset(valid_x, valid_y)\n",
    "    train_iter = torch.utils.data.DataLoader(train_dataset)\n",
    "    valid_iter = torch.utils.data.DataLoader(valid_dataset)\n",
    "    model = Model(input_dim=300, num_class=4)\n",
    "    loss_func = nn.CrossEntropyLoss(reduction='mean')\n",
    "    optimizer = optim.SGD(model.parameters(), lr=learning_rate)\n",
    "    \n",
    "    with open(log_file, \"w\") as f_log:\n",
    "        f_log.write(\"{}\\t{}\\t{}\\t{}\\n\".format(\"train_loss\", \"train_acc\", \"valid_loss\", \"valid_acc\"))\n",
    "        # 訓練\n",
    "        print(\"Training Start\")\n",
    "        print(\"{}\\t{}\\t{}\\t{}\\t{}\".format(\"Epoch\", \"Train_loss\", \"Train_acc\", \"Valid_loss\", \"Valid_acc\"))\n",
    "        for epoch in range(1, num_epoch+1):\n",
    "            for x, y in train_iter:\n",
    "                optimizer.zero_grad()\n",
    "                logit = model.forward(x)\n",
    "                loss = loss_func(logit, y)\n",
    "                loss.backward()\n",
    "                optimizer.step()\n",
    "            # 評価\n",
    "            train_loss, train_acc = calc_loss_and_accuracy(model, loss_func, train_iter)\n",
    "            valid_loss, valid_acc = calc_loss_and_accuracy(model, loss_func, valid_iter)\n",
    "            print(\"Epoch:{}\\t{}\\t{}\\t{}\\t{}\".format(epoch, train_loss, train_acc, valid_loss, valid_acc))\n",
    "            f_log.write(\"{}\\t{}\\t{}\\t{}\\n\".format(train_loss, train_acc, valid_loss, valid_acc))\n",
    "        torch.save(model.state_dict(), output_file)"
   ]
  },
  {
   "cell_type": "code",
   "execution_count": 58,
   "metadata": {},
   "outputs": [
    {
     "name": "stdout",
     "output_type": "stream",
     "text": [
      "Training Start\n",
      "Epoch\tTrain_loss\tTrain_acc\tValid_loss\tValid_acc\n",
      "Epoch:1\t0.5213235759294037\t0.8157057281916885\t0.5350950387875343\t0.8016467065868264\n",
      "Epoch:2\t0.4324924043759599\t0.8558592287532759\t0.44756538830748077\t0.8383233532934131\n",
      "Epoch:3\t0.39094242936432577\t0.871115687008611\t0.4073476682476871\t0.8592814371257484\n",
      "Epoch:4\t0.3662719346086843\t0.88131785847997\t0.3840342477722592\t0.8675149700598802\n",
      "Epoch:5\t0.34959537736403995\t0.8861849494571321\t0.36872050971194625\t0.8735029940119761\n",
      "Epoch:6\t0.3373740580638377\t0.8901160614002246\t0.357857820356286\t0.875\n",
      "Epoch:7\t0.3279155810524871\t0.8920816173717708\t0.3497464616225688\t0.8794910179640718\n",
      "Epoch:8\t0.3203038599396507\t0.8939535754399102\t0.3434645534345261\t0.8824850299401198\n",
      "Epoch:9\t0.3139967526661416\t0.8949831523773868\t0.3384657861250034\t0.8824850299401198\n",
      "Epoch:10\t0.30865123424859964\t0.8956383377012355\t0.334404398213687\t0.8824850299401198\n"
     ]
    }
   ],
   "source": [
    "train(10, 0.01, \"./work/train_x.npy\", \"./work/train_y.npy\", \"./work/valid_x.npy\", \"./work/valid_y.npy\", \"./work/model75.pt\", \"./work/log75.txt\")"
   ]
  },
  {
   "cell_type": "code",
   "execution_count": 54,
   "metadata": {},
   "outputs": [],
   "source": [
    "# pandasでグラフ作成\n",
    "import pandas as pd\n",
    "df = pd.read_csv(\"./work/log.txt\", sep=\"\\t\")"
   ]
  },
  {
   "cell_type": "code",
   "execution_count": 55,
   "metadata": {},
   "outputs": [
    {
     "data": {
      "text/html": [
       "<div>\n",
       "<style scoped>\n",
       "    .dataframe tbody tr th:only-of-type {\n",
       "        vertical-align: middle;\n",
       "    }\n",
       "\n",
       "    .dataframe tbody tr th {\n",
       "        vertical-align: top;\n",
       "    }\n",
       "\n",
       "    .dataframe thead th {\n",
       "        text-align: right;\n",
       "    }\n",
       "</style>\n",
       "<table border=\"1\" class=\"dataframe\">\n",
       "  <thead>\n",
       "    <tr style=\"text-align: right;\">\n",
       "      <th></th>\n",
       "      <th>train_loss</th>\n",
       "      <th>train_acc</th>\n",
       "      <th>valid_loss</th>\n",
       "      <th>valid_acc</th>\n",
       "    </tr>\n",
       "  </thead>\n",
       "  <tbody>\n",
       "    <tr>\n",
       "      <th>0</th>\n",
       "      <td>0.517239</td>\n",
       "      <td>0.823662</td>\n",
       "      <td>0.525421</td>\n",
       "      <td>0.827844</td>\n",
       "    </tr>\n",
       "    <tr>\n",
       "      <th>1</th>\n",
       "      <td>0.429146</td>\n",
       "      <td>0.862411</td>\n",
       "      <td>0.441278</td>\n",
       "      <td>0.863772</td>\n",
       "    </tr>\n",
       "    <tr>\n",
       "      <th>2</th>\n",
       "      <td>0.387735</td>\n",
       "      <td>0.876638</td>\n",
       "      <td>0.403713</td>\n",
       "      <td>0.878743</td>\n",
       "    </tr>\n",
       "    <tr>\n",
       "      <th>3</th>\n",
       "      <td>0.363047</td>\n",
       "      <td>0.884875</td>\n",
       "      <td>0.382318</td>\n",
       "      <td>0.884731</td>\n",
       "    </tr>\n",
       "    <tr>\n",
       "      <th>4</th>\n",
       "      <td>0.346310</td>\n",
       "      <td>0.889274</td>\n",
       "      <td>0.368379</td>\n",
       "      <td>0.889222</td>\n",
       "    </tr>\n",
       "  </tbody>\n",
       "</table>\n",
       "</div>"
      ],
      "text/plain": [
       "   train_loss  train_acc  valid_loss  valid_acc\n",
       "0    0.517239   0.823662    0.525421   0.827844\n",
       "1    0.429146   0.862411    0.441278   0.863772\n",
       "2    0.387735   0.876638    0.403713   0.878743\n",
       "3    0.363047   0.884875    0.382318   0.884731\n",
       "4    0.346310   0.889274    0.368379   0.889222"
      ]
     },
     "execution_count": 55,
     "metadata": {},
     "output_type": "execute_result"
    }
   ],
   "source": [
    "df.head()"
   ]
  },
  {
   "cell_type": "code",
   "execution_count": 62,
   "metadata": {},
   "outputs": [
    {
     "data": {
      "text/plain": [
       "Text(0, 0.5, 'Accuracy')"
      ]
     },
     "execution_count": 62,
     "metadata": {},
     "output_type": "execute_result"
    },
    {
     "data": {
      "image/png": "[encoded data removed]",
      "text/plain": [
       "<Figure size 432x288 with 1 Axes>"
      ]
     },
     "metadata": {
      "needs_background": "light"
     },
     "output_type": "display_data"
    }
   ],
   "source": [
    "ax = df[[\"train_acc\", \"valid_acc\"]].plot()\n",
    "ax.set_title(\"Accuracy\")\n",
    "ax.set_xlabel(\"Epoch\")\n",
    "ax.set_ylabel(\"Accuracy\")"
   ]
  },
  {
   "cell_type": "code",
   "execution_count": 63,
   "metadata": {},
   "outputs": [
    {
     "data": {
      "text/plain": [
       "Text(0, 0.5, 'Loss')"
      ]
     },
     "execution_count": 63,
     "metadata": {},
     "output_type": "execute_result"
    },
    {
     "data": {
      "image/png": "[encoded data removed]",
      "text/plain": [
       "<Figure size 432x288 with 1 Axes>"
      ]
     },
     "metadata": {
      "needs_background": "light"
     },
     "output_type": "display_data"
    }
   ],
   "source": [
    "ax = df[[\"train_loss\", \"valid_loss\"]].plot()\n",
    "ax.set_title(\"Loss\")\n",
    "ax.set_xlabel(\"Epoch\")\n",
    "ax.set_ylabel(\"Loss\")"
   ]
  },
  {
   "cell_type": "markdown",
   "metadata": {},
   "source": [
    "# 76. チェックポイント\n",
    "問題75のコードを改変し，各エポックのパラメータ更新が完了するたびに，チェックポイント（学習途中のパラメータ（重み行列など）の値や最適化アルゴリズムの内部状態）をファイルに書き出せ．\n",
    "\n",
    "https://pytorch.org/tutorials/beginner/saving_loading_models.html#saving-loading-a-general-checkpoint-for-inference-and-or-resuming-training"
   ]
  },
  {
   "cell_type": "code",
   "execution_count": 96,
   "metadata": {},
   "outputs": [],
   "source": [
    "import torch.nn as nn\n",
    "from sklearn.metrics import accuracy_score\n",
    "\n",
    "#チェックポイントとして、重み行列の値と最適化アルゴリズムの内部状態をファイルに書き込む        \n",
    "def calc_loss_and_accuracy(model, loss_func, dataset):\n",
    "    softmax = nn.Softmax(dim=-1)\n",
    "    gold_labels = []\n",
    "    pred_labels = []\n",
    "    total_loss = 0\n",
    "    for x, y in dataset:\n",
    "        logit = model.forward(x)\n",
    "        loss = loss_func(logit, y)\n",
    "        total_loss += loss.item()\n",
    "        pred_label = torch.argmax(softmax(logit), dim=-1)\n",
    "        pred_labels.append(pred_label)\n",
    "        gold_labels.append(y)\n",
    "    ave_loss = total_loss / len(dataset)\n",
    "    accuracy = accuracy_score(gold_labels, pred_labels)\n",
    "    \n",
    "    return ave_loss, accuracy\n",
    "    \n",
    "def train(num_epoch, learning_rate, train_x_file, train_y_file, valid_x_file, valid_y_file, output_file, log_file):\n",
    "    train_x = np.load(train_x_file)\n",
    "    train_y = np.load(train_y_file)\n",
    "    valid_x = np.load(valid_x_file)\n",
    "    valid_y = np.load(valid_y_file)\n",
    "    train_x = torch.from_numpy(train_x)\n",
    "    train_y = torch.from_numpy(train_y)\n",
    "    valid_x = torch.from_numpy(valid_x)\n",
    "    valid_y = torch.from_numpy(valid_y)\n",
    "    train_dataset = torch.utils.data.TensorDataset(train_x, train_y)\n",
    "    valid_dataset = torch.utils.data.TensorDataset(valid_x, valid_y)\n",
    "    train_iter = torch.utils.data.DataLoader(train_dataset)\n",
    "    valid_iter = torch.utils.data.DataLoader(valid_dataset)\n",
    "    model = Model(input_dim=300, num_class=4)\n",
    "    loss_func = nn.CrossEntropyLoss(reduction='mean')\n",
    "    optimizer = optim.SGD(model.parameters(), lr=learning_rate)\n",
    "    \n",
    "    with open(log_file, \"w\") as f_log:\n",
    "        f_log.write(\"{}\\t{}\\t{}\\t{}\\n\".format(\"train_loss\", \"train_acc\", \"valid_loss\", \"valid_acc\"))\n",
    "        # 訓練\n",
    "        print(\"Training Start\")\n",
    "        print(\"{}\\t{}\\t{}\\t{}\\t{}\".format(\"Epoch\", \"Train_loss\", \"Train_acc\", \"Valid_loss\", \"Valid_acc\"))\n",
    "        for epoch in range(1, num_epoch+1):\n",
    "            for x, y in train_iter:\n",
    "                optimizer.zero_grad()\n",
    "                logit = model.forward(x)\n",
    "                loss = loss_func(logit, y)\n",
    "                loss.backward()\n",
    "                optimizer.step()\n",
    "            # 評価\n",
    "            train_loss, train_acc = calc_loss_and_accuracy(model, loss_func, train_iter)\n",
    "            valid_loss, valid_acc = calc_loss_and_accuracy(model, loss_func, valid_iter)\n",
    "            print(\"Epoch:{}\\t{}\\t{}\\t{}\\t{}\".format(epoch, train_loss, train_acc, valid_loss, valid_acc))\n",
    "            f_log.write(\"{}\\t{}\\t{}\\t{}\\n\".format(train_loss, train_acc, valid_loss, valid_acc))\n",
    "            \n",
    "        #model.state_dictメソッドでモデルのパラメータを保存できる\n",
    "        #optimizer.state_dict()→内部状態を保存するメソッド\n",
    "        torch.save({'model_state_dict':model.state_dict(), 'optimizer_state_dict':optimizer.state_dict()} , output_file)"
   ]
  },
  {
   "cell_type": "code",
   "execution_count": 97,
   "metadata": {},
   "outputs": [
    {
     "name": "stdout",
     "output_type": "stream",
     "text": [
      "Training Start\n",
      "Epoch\tTrain_loss\tTrain_acc\tValid_loss\tValid_acc\n",
      "Epoch:1\t0.5203304422622188\t0.8154249344814676\t0.5337872897260153\t0.8016467065868264\n",
      "Epoch:2\t0.4317631861800417\t0.8571695994009734\t0.4467609699394073\t0.8398203592814372\n",
      "Epoch:3\t0.3904088094642346\t0.8713028828154249\t0.40682386865145403\t0.8592814371257484\n",
      "Epoch:4\t0.3658613336122126\t0.8817858479970049\t0.38366374280708904\t0.8667664670658682\n",
      "Epoch:5\t0.3492659562953289\t0.8872145263946087\t0.36844050845793447\t0.8712574850299402\n",
      "Epoch:6\t0.3371012263329376\t0.8897416697865967\t0.3576352159457773\t0.875\n",
      "Epoch:7\t0.32768406134240063\t0.8926432047922127\t0.34956237789002786\t0.8787425149700598\n",
      "Epoch:8\t0.3201036311475094\t0.8939535754399102\t0.3433077363987279\t0.8824850299401198\n",
      "Epoch:9\t0.31382092654684485\t0.8950767502807937\t0.33832918288913094\t0.8832335329341318\n",
      "Epoch:10\t0.30849491294242976\t0.8963871209284912\t0.3342832680263817\t0.8832335329341318\n"
     ]
    }
   ],
   "source": [
    "train(10, 0.01, \"./work/train_x.npy\", \"./work/train_y.npy\", \"./work/valid_x.npy\", \"./work/valid_y.npy\", \"./work/model76.pt\", \"./work/log76.txt\")"
   ]
  },
  {
   "cell_type": "code",
   "execution_count": 98,
   "metadata": {},
   "outputs": [
    {
     "name": "stdout",
     "output_type": "stream",
     "text": [
      "{'model_state_dict': OrderedDict([('l1.weight', tensor([[-0.4233, -0.0917, -0.1502,  ...,  0.2818,  0.2262, -0.7437],\n",
      "        [ 0.3361,  0.1776,  0.5988,  ..., -0.0393, -0.6740, -0.4723],\n",
      "        [ 0.5205,  0.0892, -1.0334,  ..., -0.6633,  0.0559,  0.3182],\n",
      "        [-0.3700, -0.1506,  0.5157,  ...,  0.3028,  0.4610,  0.8636]]))]), 'optimizer_state_dict': {'state': {}, 'param_groups': [{'lr': 0.01, 'momentum': 0, 'dampening': 0, 'weight_decay': 0, 'nesterov': False, 'params': [0]}]}}\n"
     ]
    }
   ],
   "source": [
    "#ファイルを読み込んで確認\n",
    "output_f = \"./work/model76.pt\"\n",
    "check_point = torch.load(output_f)\n",
    "print(check_point)"
   ]
  },
  {
   "cell_type": "markdown",
   "metadata": {},
   "source": [
    "# 77. ミニバッチ化\n",
    "問題76のコードを改変し，B事例ごとに損失・勾配を計算し，行列Wの値を更新せよ（ミニバッチ化）．Bの値を1,2,4,8,…と変化させながら，1エポックの学習に要する時間を比較せよ．"
   ]
  },
  {
   "cell_type": "code",
   "execution_count": 153,
   "metadata": {},
   "outputs": [],
   "source": [
    "#パラメータの更新に全ての訓練データを用いるのがバッチ学習\n",
    "#それに対して一部の訓練データを取り出すのがミニバッチ学習\n",
    "\n",
    "import time\n",
    "def calc_loss_and_accuracy(model, loss_func, dataset):\n",
    "    softmax = nn.Softmax(dim=-1)\n",
    "    gold_labels = []\n",
    "    pred_labels = []\n",
    "    total_loss = 0\n",
    "    \n",
    "    for x, y in dataset:\n",
    "        logit = model.forward(x)\n",
    "        loss = loss_func(logit, y)\n",
    "        total_loss += loss.item()\n",
    "        pred_label = torch.argmax(softmax(logit), dim=-1)\n",
    "        pred_labels.append(pred_label)\n",
    "        gold_labels.append(y)\n",
    "    ave_loss = total_loss / len(dataset)\n",
    "    accuracy = accuracy_score(gold_labels, pred_labels)\n",
    "    \n",
    "    return ave_loss, accuracy\n",
    "      \n",
    "def train(batch_size, num_epoch, learning_rate, train_x_file, train_y_file, valid_x_file, valid_y_file, output_file, log_file):\n",
    "    train_x = np.load(train_x_file)\n",
    "    train_y = np.load(train_y_file)\n",
    "    valid_x = np.load(valid_x_file)\n",
    "    valid_y = np.load(valid_y_file)\n",
    "    train_x = torch.from_numpy(train_x).float()\n",
    "    train_y = torch.from_numpy(train_y).long()\n",
    "    valid_x = torch.from_numpy(valid_x).float()\n",
    "    valid_y = torch.from_numpy(valid_y).long()\n",
    "    \n",
    "    train_dataset = torch.utils.data.TensorDataset(train_x, train_y)\n",
    "    valid_dataset = torch.utils.data.TensorDataset(valid_x, valid_y)\n",
    "    train_iter = torch.utils.data.DataLoader(train_dataset, batch_size = batch_size, shuffle = True)\n",
    "    valid_iter = torch.utils.data.DataLoader(valid_dataset)\n",
    "    model = Model(input_dim=300, num_class=4)\n",
    "    loss_func = nn.CrossEntropyLoss(reduction='mean')\n",
    "    \n",
    "    \n",
    "    optimizer = optim.SGD(model.parameters(), lr=learning_rate)\n",
    "    \n",
    "    with open(log_file, \"w\") as f_log:\n",
    "        f_log.write(\"{}\\n\".format(\"batch_size\"))\n",
    "        # 訓練 \n",
    "        for epoch in range(1, num_epoch+1):\n",
    "            \n",
    "            #時間を記録\n",
    "            start = time.time()\n",
    "            for x, y in train_iter:\n",
    "                optimizer.zero_grad()\n",
    "                logit = model.forward(x)\n",
    "                loss = loss_func(logit, y)\n",
    "                loss.backward()\n",
    "                optimizer.step()\n",
    "            \n",
    "            #終了時刻\n",
    "            end = time.time()\n",
    "            total_time = end - start\n",
    "            print(\"Batch_size:{}\\t{}\".format(batch_size, total_time))\n",
    "            f_log.write(\"{}\\t{}\\n\".format(batch_size, total_time))\n",
    "            \n",
    "        #model.state_dictメソッドでモデルのパラメータを保存できる\n",
    "        #optimizer.state_dict()→内部状態を保存するメソッド\n",
    "        torch.save({'model_state_dict':model.state_dict(), 'optimizer_state_dict':optimizer.state_dict()} , output_file)"
   ]
  },
  {
   "cell_type": "code",
   "execution_count": 155,
   "metadata": {},
   "outputs": [
    {
     "name": "stdout",
     "output_type": "stream",
     "text": [
      "Batch_size:1\t2.2845213413238525\n",
      "Batch_size:2\t1.2452478408813477\n",
      "Batch_size:4\t0.6073892116546631\n",
      "Batch_size:8\t0.35704827308654785\n",
      "Batch_size:16\t0.23964905738830566\n",
      "Batch_size:32\t0.16015195846557617\n",
      "Batch_size:64\t0.12971782684326172\n",
      "Batch_size:128\t0.13903307914733887\n",
      "Batch_size:256\t0.10283017158508301\n",
      "Batch_size:512\t0.09129524230957031\n"
     ]
    }
   ],
   "source": [
    "#バッチサイズを指定\n",
    "for batch_size in [ 2 ** i for i in range(10)]:\n",
    "    train(batch_size, 1, 0.01, \"./work/train_x.npy\", \"./work/train_y.npy\", \"./work/valid_x.npy\", \"./work/valid_y.npy\"model, \"./work/model77.pt\", \"./work/log77.txt\")"
   ]
  },
  {
   "cell_type": "markdown",
   "metadata": {},
   "source": [
    "# 78. GPU上での学習\n",
    "問題77のコードを改変し，GPU上で学習を実行せよ．"
   ]
  },
  {
   "cell_type": "markdown",
   "metadata": {},
   "source": [
    "* 乾研サーバーの環境構築が終わっていなかった為割愛"
   ]
  },
  {
   "cell_type": "code",
   "execution_count": null,
   "metadata": {},
   "outputs": [],
   "source": [
    "#学習に要する時間の表示"
   ]
  },
  {
   "cell_type": "markdown",
   "metadata": {},
   "source": [
    "# 79. 多層ニューラルネットワーク\n",
    "問題78のコードを改変し，バイアス項の導入や多層化など，ニューラルネットワークの形状を変更しながら，高性能なカテゴリ分類器を構築せよ．"
   ]
  },
  {
   "cell_type": "code",
   "execution_count": 201,
   "metadata": {},
   "outputs": [],
   "source": [
    "import torch.nn.functional as F\n",
    "#多層化したモデルの定義(隠れ層を追加)\n",
    "class Multipled_model(nn.Module):\n",
    "    def __init__(self, input_dim, hidden_dim, output_dim):\n",
    "        super(Multipled_model, self).__init__()\n",
    "        #Linearは全結合層を示す\n",
    "        self.fc1 = nn.Linear(input_dim, hidden_dim, bias=False)\n",
    "        self.fc2 = nn.Linear(hidden_dim, output_dim)\n",
    "\n",
    "    #forward pass\n",
    "    def forward(self, x):\n",
    "        x = F.relu(self.fc1(x))\n",
    "        logit = self.fc2(x)\n",
    "        return logit"
   ]
  },
  {
   "cell_type": "code",
   "execution_count": null,
   "metadata": {},
   "outputs": [],
   "source": [
    "import torch.nn as nn\n",
    "from sklearn.metrics import accuracy_score\n",
    "\n",
    "def calc_loss_and_accuracy(model, loss_func, dataset):\n",
    "    softmax = nn.Softmax(dim=-1)\n",
    "    gold_labels = []\n",
    "    pred_labels = []\n",
    "    total_loss = 0\n",
    "    for x, y in dataset:\n",
    "        logit = model.forward(x)\n",
    "        loss = loss_func(logit, y)\n",
    "        total_loss += loss.item()\n",
    "        pred_label = torch.argmax(softmax(logit), dim=-1)\n",
    "        pred_labels.append(pred_label)\n",
    "        gold_labels.append(y)\n",
    "    ave_loss = total_loss / len(dataset)\n",
    "    accuracy = accuracy_score(gold_labels, pred_labels)\n",
    "    \n",
    "    return ave_loss, accuracy\n",
    "    \n",
    "def train(batch_size, num_epoch, learning_rate, train_x_file, train_y_file, valid_x_file, valid_y_file, output_file, log_file):\n",
    "    train_x = np.load(train_x_file)\n",
    "    train_y = np.load(train_y_file)\n",
    "    valid_x = np.load(valid_x_file)\n",
    "    valid_y = np.load(valid_y_file)\n",
    "    train_x = torch.from_numpy(train_x).float()\n",
    "    train_y = torch.from_numpy(train_y).long()\n",
    "    valid_x = torch.from_numpy(valid_x).float()\n",
    "    valid_y = torch.from_numpy(valid_y).long()\n",
    "    \n",
    "    train_dataset = torch.utils.data.TensorDataset(train_x, train_y)\n",
    "    valid_dataset = torch.utils.data.TensorDataset(valid_x, valid_y)\n",
    "    train_iter = torch.utils.data.DataLoader(train_dataset,shuffle = True)\n",
    "    valid_iter = torch.utils.data.DataLoader(valid_dataset)\n",
    "    model = Multipled_model(input_dim=300, hidden_dim=100,output_dim=4)\n",
    "    loss_func = nn.CrossEntropyLoss(reduction='mean')\n",
    "    \n",
    "    #optimizerを変更\n",
    "    optimizer = optim.Adam(model.parameters(), lr=learning_rate)\n",
    "         \n",
    "    with open(log_file, \"w\") as f_log:\n",
    "        f_log.write(\"{}\\t{}\\t{}\\t{}\\n\".format(\"train_loss\", \"train_acc\", \"valid_loss\", \"valid_acc\"))\n",
    "        # 訓練 \n",
    "        print(\"{}\\t{}\\t{}\\t{}\\t{}\".format(\"Epoch\", \"Train_loss\", \"Train_acc\", \"Valid_loss\", \"Valid_acc\"))\n",
    "        for epoch in range(1, num_epoch+1):\n",
    "            \n",
    "            for x, y in train_iter:\n",
    "                optimizer.zero_grad()\n",
    "                logit = model(x)\n",
    "                loss = loss_func(logit, y)\n",
    "                loss.backward()\n",
    "                optimizer.step()\n",
    "                \n",
    "            #評価\n",
    "            train_loss, train_acc = calc_loss_and_accuracy(model, loss_func, train_iter)\n",
    "            valid_loss, valid_acc = calc_loss_and_accuracy(model, loss_func, valid_iter)\n",
    "            print(\"Epoch:{}\\t{}\\t{}\\t{}\\t{}\".format(epoch, train_loss, train_acc, valid_loss, valid_acc))\n",
    "            f_log.write(\"{}\\t{}\\t{}\\t{}\\n\".format(train_loss, train_acc, valid_loss, valid_acc))\n",
    "            \n",
    "        #model.state_dictメソッドでモデルのパラメータを保存できる\n",
    "        #optimizer.state_dict()→内部状態を保存するメソッド\n",
    "        torch.save({'model_state_dict':model.state_dict(), 'optimizer_state_dict':optimizer.state_dict()} , output_file)"
   ]
  },
  {
   "cell_type": "code",
   "execution_count": 214,
   "metadata": {},
   "outputs": [
    {
     "name": "stdout",
     "output_type": "stream",
     "text": [
      "Epoch\tTrain_loss\tTrain_acc\tValid_loss\tValid_acc\n",
      "Epoch:1\t0.2857771837839182\t0.9041557469112692\t0.3809893997890397\t0.8869760479041916\n",
      "Epoch:2\t0.31657333208247185\t0.8925496068888057\t0.4296295026250836\t0.8712574850299402\n",
      "Epoch:3\t0.2501529350781316\t0.9181954324223137\t0.39222289153820217\t0.8862275449101796\n",
      "Epoch:4\t0.22686568033961552\t0.9208161737177087\t0.376537689733234\t0.8907185628742516\n",
      "Epoch:5\t0.23717222906005192\t0.9213777611381505\t0.509250994178514\t0.8787425149700598\n",
      "Epoch:6\t0.24779755275363682\t0.9281168101834519\t0.5371936573470764\t0.8899700598802395\n",
      "Epoch:7\t0.19492646393880142\t0.9287719955073006\t0.4646183300114005\t0.8899700598802395\n",
      "Epoch:8\t0.20463245939227612\t0.9204417821040809\t0.529132636401041\t0.8675149700598802\n",
      "Epoch:9\t0.17043693858159875\t0.9417821040808686\t0.5886486208180495\t0.8817365269461078\n",
      "Epoch:10\t0.15687281495447813\t0.9480531636091352\t0.6497314538800224\t0.8839820359281437\n",
      "Epoch:11\t0.1673355713754052\t0.9475851740921003\t0.6982767493958552\t0.8802395209580839\n",
      "Epoch:12\t0.1441500314141516\t0.9496443279670536\t0.6632903796285446\t0.8869760479041916\n",
      "Epoch:13\t0.13238306984972714\t0.9559153874953201\t0.7711323073768954\t0.8869760479041916\n",
      "Epoch:14\t0.15093933138425908\t0.943373268438787\t0.7407380756064492\t0.8705089820359282\n",
      "Epoch:15\t0.10921706299030183\t0.9630288281542494\t0.8710431011461651\t0.8884730538922155\n",
      "Epoch:16\t0.10706469662963981\t0.961344065892924\t0.7900083559880838\t0.8989520958083832\n",
      "Epoch:17\t0.12522300328262598\t0.9563833770123549\t0.827326817318851\t0.8735029940119761\n",
      "Epoch:18\t0.14811681623643813\t0.9546050168476227\t1.1614736363512217\t0.8779940119760479\n",
      "Epoch:19\t0.08675778652583231\t0.969112691875702\t0.845559760478353\t0.8907185628742516\n",
      "Epoch:20\t0.10253138478139108\t0.9660239610632722\t1.1077026964030945\t0.8854790419161677\n",
      "Epoch:21\t0.09363580944305396\t0.9705166604268064\t1.101045201963954\t0.8809880239520959\n",
      "Epoch:22\t0.11479100309979183\t0.9647135904155747\t1.3718192611914684\t0.8899700598802395\n",
      "Epoch:23\t0.09076517875651857\t0.9692062897791089\t1.2965156258739978\t0.8944610778443114\n",
      "Epoch:24\t0.13240607682856367\t0.9609696742792961\t1.544698331630022\t0.8832335329341318\n",
      "Epoch:25\t0.08771667901721089\t0.9704230625233995\t1.2811416212320816\t0.8869760479041916\n",
      "Epoch:26\t0.11299071710520138\t0.9676151254211905\t1.600682347162201\t0.8877245508982036\n",
      "Epoch:27\t0.08037789396784938\t0.9757581430175964\t1.2677903132331323\t0.8869760479041916\n",
      "Epoch:28\t0.08002997185400333\t0.9734181954324224\t1.4944519995699805\t0.8847305389221557\n",
      "Epoch:29\t0.1168052921589004\t0.9673343317109697\t1.7710968061704844\t0.8787425149700598\n",
      "Epoch:30\t0.06353514734371957\t0.9771621115687008\t1.6888236206821583\t0.8862275449101796\n",
      "Epoch:31\t0.07188973718351883\t0.9751029576937477\t1.7614530384232656\t0.8899700598802395\n",
      "Epoch:32\t0.08195111318265311\t0.9747285660801198\t1.784748486613396\t0.8772455089820359\n",
      "Epoch:33\t0.0878124722075191\t0.9728566080119805\t2.000745694723597\t0.8772455089820359\n",
      "Epoch:34\t0.061544779132806045\t0.976787719955073\t1.6568144841661314\t0.8862275449101796\n",
      "Epoch:35\t0.10661335285653896\t0.9752901535005616\t1.7329646831660115\t0.8944610778443114\n",
      "Epoch:36\t0.07889273395148395\t0.9754773493073755\t2.214844506701999\t0.8764970059880239\n",
      "Epoch:37\t0.05130749959627854\t0.9831523773867465\t2.1441947463554465\t0.8817365269461078\n",
      "Epoch:38\t0.06529709966319507\t0.9774429052789217\t2.0542213673361043\t0.8779940119760479\n",
      "Epoch:39\t0.08504335860204953\t0.9775365031823288\t2.541716871336455\t0.8824850299401198\n",
      "Epoch:40\t0.07268738253863906\t0.9781916885061774\t2.492692307123299\t0.8809880239520959\n",
      "Epoch:41\t0.058891039677291146\t0.9790340696368401\t2.527827074706114\t0.8832335329341318\n",
      "Epoch:42\t0.06562221624563515\t0.9763197304380382\t2.4310981773107456\t0.8772455089820359\n",
      "Epoch:43\t0.05286556448866687\t0.9812804193186072\t2.3863901318933567\t0.8832335329341318\n",
      "Epoch:44\t0.0715034598498878\t0.979314863347061\t3.0220735576315447\t0.8764970059880239\n",
      "Epoch:45\t0.11138373403206127\t0.9790340696368401\t3.1468539908808735\t0.8839820359281437\n",
      "Epoch:46\t0.0477470609973143\t0.9836203669037814\t2.6074582231317907\t0.8779940119760479\n",
      "Epoch:47\t0.05056754154453884\t0.9836203669037814\t2.8507360004528417\t0.875748502994012\n",
      "Epoch:48\t0.05571971294602228\t0.9817484088356421\t3.0356922728101425\t0.8787425149700598\n",
      "Epoch:49\t0.06467512844483392\t0.9805316360913515\t2.7393292396353894\t0.8824850299401198\n",
      "Epoch:50\t0.06912155164702372\t0.9772557094721078\t2.883969316670582\t0.8832335329341318\n",
      "Epoch:51\t0.05540763810858138\t0.9841819543242232\t2.935689155803064\t0.8832335329341318\n",
      "Epoch:52\t0.08538548258049314\t0.9747285660801198\t3.1214441009766394\t0.8839820359281437\n",
      "Epoch:53\t0.03855767781055809\t0.9867090977162112\t3.155712795011473\t0.8787425149700598\n",
      "Epoch:54\t0.0466416535610468\t0.9838075627105953\t3.150686584100759\t0.8794910179640718\n",
      "Epoch:55\t0.05172556124936725\t0.9835267690003744\t3.3140304525060404\t0.8839820359281437\n",
      "Epoch:56\t0.06426653015514157\t0.9834331710969674\t3.1787232855157592\t0.8839820359281437\n",
      "Epoch:57\t0.053415685404124995\t0.9833395731935605\t3.3936349085476425\t0.8772455089820359\n",
      "Epoch:58\t0.054741033350970816\t0.9846499438412579\t3.3655965068863565\t0.8817365269461078\n",
      "Epoch:59\t0.0906230791066403\t0.9804380381879446\t3.717629591685912\t0.8817365269461078\n",
      "Epoch:60\t0.046623455119694526\t0.9849307375514789\t3.788294851605753\t0.8735029940119761\n",
      "Epoch:61\t0.045980289239892884\t0.9836203669037814\t3.760636103628147\t0.8787425149700598\n",
      "Epoch:62\t0.054220593943081534\t0.9832459752901535\t3.646948582365618\t0.8817365269461078\n",
      "Epoch:63\t0.05757588141864697\t0.9840883564208162\t4.320216312283302\t0.8794910179640718\n",
      "Epoch:64\t0.056417978901643184\t0.9852115312616997\t4.225653889603821\t0.8862275449101796\n",
      "Epoch:65\t0.048628725419560065\t0.9859603144889555\t4.084047986453062\t0.8817365269461078\n",
      "Epoch:66\t0.05315127441269775\t0.9843691501310371\t4.052381075454827\t0.8824850299401198\n",
      "Epoch:67\t0.06820040651083678\t0.984556345937851\t4.361311564511065\t0.875748502994012\n",
      "Epoch:68\t0.08413422706889441\t0.9777236989891427\t4.240976526112386\t0.8772455089820359\n",
      "Epoch:69\t0.05934911292821474\t0.9849307375514789\t4.252502995454473\t0.8854790419161677\n",
      "Epoch:70\t0.032844870004665114\t0.9868962935230251\t4.132444517906236\t0.8809880239520959\n",
      "Epoch:71\t0.037600722129117685\t0.986989891426432\t4.257454329910424\t0.8832335329341318\n",
      "Epoch:72\t0.05701049448497762\t0.9839011606140022\t4.313673517564057\t0.8802395209580839\n",
      "Epoch:73\t0.034447230685365926\t0.9877386746536878\t4.496839397042804\t0.8847305389221557\n",
      "Epoch:74\t0.04448168856821894\t0.9867090977162112\t4.547737705924614\t0.8839820359281437\n",
      "Epoch:75\t0.044635363703472736\t0.9868962935230251\t4.405650450652058\t0.8884730538922155\n",
      "Epoch:76\t0.050001182947980116\t0.9821228004492699\t4.027106404935833\t0.8817365269461078\n",
      "Epoch:77\t0.05834694829443564\t0.986989891426432\t4.445637941538113\t0.8877245508982036\n",
      "Epoch:78\t0.03395739129261825\t0.9880194683639086\t4.378105692486287\t0.8832335329341318\n",
      "Epoch:79\t0.04239865386112214\t0.9865219019093973\t4.169809120795701\t0.8869760479041916\n",
      "Epoch:80\t0.03874945987660591\t0.9867090977162112\t4.2722092251448505\t0.8817365269461078\n",
      "Epoch:81\t0.04087335343487459\t0.9880194683639086\t4.417367778433428\t0.8892215568862275\n",
      "Epoch:82\t0.03425198855521927\t0.9880194683639086\t4.6037547736408975\t0.8802395209580839\n",
      "Epoch:83\t0.06218542025572915\t0.9817484088356421\t4.514707272089613\t0.8794910179640718\n",
      "Epoch:84\t0.03841410333132299\t0.9877386746536878\t4.785600758109957\t0.8907185628742516\n",
      "Epoch:85\t0.05100136280804669\t0.9876450767502808\t4.8834189254031\t0.8854790419161677\n",
      "Epoch:86\t0.0749607202098816\t0.9840883564208162\t5.5514944273472215\t0.874251497005988\n",
      "Epoch:87\t0.07140592266510294\t0.9823099962560838\t4.995889097981909\t0.8839820359281437\n",
      "Epoch:88\t0.04012065096746776\t0.9890490453013853\t5.589605488944811\t0.8839820359281437\n",
      "Epoch:89\t0.048693830114378577\t0.9882066641707226\t5.490898577698566\t0.8862275449101796\n",
      "Epoch:90\t0.03257058652722559\t0.9892362411081992\t5.145013352604645\t0.8869760479041916\n",
      "Epoch:91\t0.037218801056938984\t0.9877386746536878\t4.9543412336211325\t0.8832335329341318\n",
      "Epoch:92\t0.026971165519611127\t0.9889554473979782\t5.420786600674067\t0.8869760479041916\n",
      "Epoch:93\t0.03779789863498738\t0.9884874578809435\t5.3777296622974955\t0.8787425149700598\n",
      "Epoch:94\t0.02543087477241709\t0.98951703481842\t5.477167623546279\t0.8824850299401198\n",
      "Epoch:95\t0.06275634059135371\t0.9857731186821416\t5.627458952168982\t0.8832335329341318\n",
      "Epoch:96\t0.0329636114421154\t0.9888618494945713\t5.7864624487450165\t0.8862275449101796\n",
      "Epoch:97\t0.04846491463537255\t0.9866154998128042\t5.552195736106046\t0.8802395209580839\n",
      "Epoch:98\t0.04270849862843991\t0.9868962935230251\t5.954454369898029\t0.8794910179640718\n",
      "Epoch:99\t0.024761912732065048\t0.9890490453013853\t5.816574020790725\t0.8929640718562875\n",
      "Epoch:100\t0.06245927456229091\t0.987083489329839\t6.002891469343288\t0.8847305389221557\n"
     ]
    }
   ],
   "source": [
    "train(256, 100, 0.01, \"./work/train_x.npy\", \"./work/train_y.npy\", \"./work/valid_x.npy\", \"./work/valid_y.npy\", \"./work/model79.pt\", \"./work/log79.txt\")"
   ]
  },
  {
   "cell_type": "code",
   "execution_count": 216,
   "metadata": {},
   "outputs": [],
   "source": [
    "import torch.nn as nn\n",
    "from sklearn.metrics import accuracy_score\n",
    "\n",
    "def calc_loss_and_accuracy(model, loss_func, dataset):\n",
    "    softmax = nn.Softmax(dim=-1)\n",
    "    gold_labels = []\n",
    "    pred_labels = []\n",
    "    total_loss = 0\n",
    "    for x, y in dataset:\n",
    "        logit = model.forward(x)\n",
    "        loss = loss_func(logit, y)\n",
    "        total_loss += loss.item()\n",
    "        pred_label = torch.argmax(softmax(logit), dim=-1)\n",
    "        pred_labels.append(pred_label)\n",
    "        gold_labels.append(y)\n",
    "    ave_loss = total_loss / len(dataset)\n",
    "    accuracy = accuracy_score(gold_labels, pred_labels)\n",
    "    \n",
    "    return ave_loss, accuracy\n",
    "    \n",
    "def train(batch_size, num_epoch, learning_rate, train_x_file, train_y_file, valid_x_file, valid_y_file, output_file, log_file):\n",
    "    train_x = np.load(train_x_file)\n",
    "    train_y = np.load(train_y_file)\n",
    "    valid_x = np.load(valid_x_file)\n",
    "    valid_y = np.load(valid_y_file)\n",
    "    train_x = torch.from_numpy(train_x).float()\n",
    "    train_y = torch.from_numpy(train_y).long()\n",
    "    valid_x = torch.from_numpy(valid_x).float()\n",
    "    valid_y = torch.from_numpy(valid_y).long()\n",
    "    \n",
    "    train_dataset = torch.utils.data.TensorDataset(train_x, train_y)\n",
    "    valid_dataset = torch.utils.data.TensorDataset(valid_x, valid_y)\n",
    "    train_iter = torch.utils.data.DataLoader(train_dataset,shuffle = True)\n",
    "    valid_iter = torch.utils.data.DataLoader(valid_dataset)\n",
    "    model = Multipled_model(input_dim=300, hidden_dim=100,output_dim=4)\n",
    "    loss_func = nn.CrossEntropyLoss(reduction='mean')\n",
    "    \n",
    "    #optimizerを変更\n",
    "    optimizer = optim.SGD(model.parameters(), lr=learning_rate)\n",
    "         \n",
    "    with open(log_file, \"w\") as f_log:\n",
    "        f_log.write(\"{}\\t{}\\t{}\\t{}\\n\".format(\"train_loss\", \"train_acc\", \"valid_loss\", \"valid_acc\"))\n",
    "        # 訓練 \n",
    "        print(\"{}\\t{}\\t{}\\t{}\\t{}\".format(\"Epoch\", \"Train_loss\", \"Train_acc\", \"Valid_loss\", \"Valid_acc\"))\n",
    "        for epoch in range(1, num_epoch+1):\n",
    "            \n",
    "            for x, y in train_iter:\n",
    "                optimizer.zero_grad()\n",
    "                logit = model(x)\n",
    "                loss = loss_func(logit, y)\n",
    "                loss.backward()\n",
    "                optimizer.step()\n",
    "                \n",
    "            #評価\n",
    "            train_loss, train_acc = calc_loss_and_accuracy(model, loss_func, train_iter)\n",
    "            valid_loss, valid_acc = calc_loss_and_accuracy(model, loss_func, valid_iter)\n",
    "            print(\"Epoch:{}\\t{}\\t{}\\t{}\\t{}\".format(epoch, train_loss, train_acc, valid_loss, valid_acc))\n",
    "            f_log.write(\"{}\\t{}\\t{}\\t{}\\n\".format(train_loss, train_acc, valid_loss, valid_acc))\n",
    "            \n",
    "        #model.state_dictメソッドでモデルのパラメータを保存できる\n",
    "        #optimizer.state_dict()→内部状態を保存するメソッド\n",
    "        torch.save({'model_state_dict':model.state_dict(), 'optimizer_state_dict':optimizer.state_dict()} , output_file)"
   ]
  },
  {
   "cell_type": "code",
   "execution_count": null,
   "metadata": {},
   "outputs": [],
   "source": []
  },
  {
   "cell_type": "code",
   "execution_count": null,
   "metadata": {},
   "outputs": [],
   "source": [
    "#GPU上で学習した結果を表示"
   ]
  }
 ],
 "metadata": {
  "kernelspec": {
   "display_name": "Python 3",
   "language": "python",
   "name": "python3"
  },
  "language_info": {
   "codemirror_mode": {
    "name": "ipython",
    "version": 3
   },
   "file_extension": ".py",
   "mimetype": "text/x-python",
   "name": "python",
   "nbconvert_exporter": "python",
   "pygments_lexer": "ipython3",
   "version": "3.7.3"
  }
 },
 "nbformat": 4,
 "nbformat_minor": 4
}
