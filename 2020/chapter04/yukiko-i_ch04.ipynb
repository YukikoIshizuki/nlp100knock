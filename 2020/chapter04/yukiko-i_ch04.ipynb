{
 "cells": [
  {
   "cell_type": "markdown",
   "metadata": {},
   "source": [
    "***第4章: 形態素解析\n",
    "夏目漱石の小説『吾輩は猫である』の文章（neko.txt）をMeCabを使って形態素解析し，その結果をneko.txt.mecabというファイルに保存せよ．このファイルを用いて，以下の問に対応するプログラムを実装せよ．\n",
    "なお，問題37, 38, 39はmatplotlibもしくはGnuplotを用いるとよい．***"
   ]
  },
  {
   "cell_type": "code",
   "execution_count": 2,
   "metadata": {},
   "outputs": [
    {
     "name": "stdout",
     "output_type": "stream",
     "text": [
      "吾輩\tワガハイ\t吾輩\t名詞-代名詞-一般\t\t\n",
      "は\tハ\tは\t助詞-係助詞\t\t\n",
      "猫\tネコ\t猫\t名詞-一般\t\t\n",
      "で\tデ\tだ\t助動詞\t特殊・ダ\t連用形\n",
      "ある\tアル\tある\t助動詞\t五段・ラ行アル\t基本形\n",
      "。\t。\t。\t記号-句点\t\t\n",
      "名前\tナマエ\t名前\t名詞-一般\t\t\n",
      "は\tハ\tは\t助詞-係助詞\t\t\n",
      "まだ\tマダ\tまだ\t副詞-助詞類接続\t\t\n",
      "無い\tナイ\t無い\t形容詞-自立\t形容詞・アウオ段\t基本形\n",
      "。\t。\t。\t記号-句点\t\t\n",
      "EOS\n",
      "\n",
      " BOS/EOS,*,*,*,*,*,*,*,*\n",
      "吾輩 名詞,代名詞,一般,*,*,*,吾輩,ワガハイ,ワガハイ\n",
      "は 助詞,係助詞,*,*,*,*,は,ハ,ワ\n",
      "猫 名詞,一般,*,*,*,*,猫,ネコ,ネコ\n",
      "で 助動詞,*,*,*,特殊・ダ,連用形,だ,デ,デ\n",
      "ある 助動詞,*,*,*,五段・ラ行アル,基本形,ある,アル,アル\n",
      "。 記号,句点,*,*,*,*,。,。,。\n",
      "名前 名詞,一般,*,*,*,*,名前,ナマエ,ナマエ\n",
      "は 助詞,係助詞,*,*,*,*,は,ハ,ワ\n",
      "まだ 副詞,助詞類接続,*,*,*,*,まだ,マダ,マダ\n",
      "無い 形容詞,自立,*,*,形容詞・アウオ段,基本形,無い,ナイ,ナイ\n",
      "。 記号,句点,*,*,*,*,。,。,。\n",
      " BOS/EOS,*,*,*,*,*,*,*,*\n"
     ]
    }
   ],
   "source": [
    "#マッピング型（dict）\n",
    "#MeCabの使い方を知るために色々試してみる\n",
    "\n",
    "import MeCab\n",
    "text = \"吾輩は猫である。名前はまだ無い。\"\n",
    "\n",
    "#Taggerオブジェクトで文章を単語に分割\n",
    "#-o:-output-format-type ,形態素解析ではパラメーターをchasen:ChaSen互換に指定\n",
    "\n",
    "'''\n",
    "Taggerのインスタンスメソッド\n",
    "(Taggerインスタンス）.parse(\"\")で文字列の単語の形態素のリストが生成される\n",
    "単語情報：品詞,品詞細分類1,品詞細分類2,品詞細分類3,活用形,活用型,原形,読み,発音\n",
    "'''\n",
    "\n",
    "mecab = MeCab.Tagger(\"-Ochasen\")\n",
    "mecab.parse('')\n",
    "result = mecab.parse(text)\n",
    "print(result)\n",
    "\n",
    "'''\n",
    "(Taggerインスタンス).parseToNode(\"\")でNodeオブジェクトが返る\n",
    "Nodeのプロパティ　feature（単語情報）/surface（表層形）\n",
    "'''\n",
    "node = mecab.parseToNode(text)\n",
    "while node:\n",
    "    print(node.surface,node.feature)\n",
    "    node = node.next\n",
    "    "
   ]
  },
  {
   "cell_type": "code",
   "execution_count": 3,
   "metadata": {
    "scrolled": true
   },
   "outputs": [
    {
     "name": "stdout",
     "output_type": "stream",
     "text": [
      "一\t名詞,数,*,*,*,*,一,イチ,イチ\r\n",
      "EOS\r\n",
      "EOS\r\n",
      "　\t記号,空白,*,*,*,*,　,　,　\r\n",
      "吾輩\t名詞,代名詞,一般,*,*,*,吾輩,ワガハイ,ワガハイ\r\n",
      "は\t助詞,係助詞,*,*,*,*,は,ハ,ワ\r\n",
      "猫\t名詞,一般,*,*,*,*,猫,ネコ,ネコ\r\n",
      "で\t助動詞,*,*,*,特殊・ダ,連用形,だ,デ,デ\r\n",
      "ある\t助動詞,*,*,*,五段・ラ行アル,基本形,ある,アル,アル\r\n",
      "。\t記号,句点,*,*,*,*,。,。,。\r\n",
      "EOS\r\n",
      "名前\t名詞,一般,*,*,*,*,名前,ナマエ,ナマエ\r\n",
      "は\t助詞,係助詞,*,*,*,*,は,ハ,ワ\r\n",
      "まだ\t副詞,助詞類接続,*,*,*,*,まだ,マダ,マダ\r\n",
      "無い\t形容詞,自立,*,*,形容詞・アウオ段,基本形,無い,ナイ,ナイ\r\n",
      "。\t記号,句点,*,*,*,*,。,。,。\r\n",
      "EOS\r\n",
      "EOS\r\n",
      "　\t記号,空白,*,*,*,*,　,　,　\r\n",
      "どこ\t名詞,代名詞,一般,*,*,*,どこ,ドコ,ドコ\r\n"
     ]
    }
   ],
   "source": [
    "! mecab neko.txt -o neko.txt.mecab\n",
    "! head -n 20 neko.txt.mecab"
   ]
  },
  {
   "cell_type": "markdown",
   "metadata": {},
   "source": [
    "30.形態素解析結果の読み込み\n",
    "形態素解析結果（neko.txt.mecab）を読み込むプログラムを実装せよ．ただし，各形態素は表層形（surface），基本形（base），品詞（pos），品詞細分類1（pos1）をキーとするマッピング型に格納し，1文を形態素（マッピング型）のリストとして表現せよ．第4章の残りの問題では，ここで作ったプログラムを活用せよ．"
   ]
  },
  {
   "cell_type": "code",
   "execution_count": 4,
   "metadata": {},
   "outputs": [
    {
     "name": "stdout",
     "output_type": "stream",
     "text": [
      "[{'surface': '一', 'base': '一', 'pos': '名詞', 'pos1': '数'}] \n",
      "\n",
      "[{'surface': '\\u3000', 'base': '\\u3000', 'pos': '記号', 'pos1': '空白'}, {'surface': '吾輩', 'base': '吾輩', 'pos': '名詞', 'pos1': '代名詞'}, {'surface': 'は', 'base': 'は', 'pos': '助詞', 'pos1': '係助詞'}, {'surface': '猫', 'base': '猫', 'pos': '名詞', 'pos1': '一般'}, {'surface': 'で', 'base': 'だ', 'pos': '助動詞', 'pos1': '*'}, {'surface': 'ある', 'base': 'ある', 'pos': '助動詞', 'pos1': '*'}, {'surface': '。', 'base': '。', 'pos': '記号', 'pos1': '句点'}] \n",
      "\n",
      "[{'surface': '名前', 'base': '名前', 'pos': '名詞', 'pos1': '一般'}, {'surface': 'は', 'base': 'は', 'pos': '助詞', 'pos1': '係助詞'}, {'surface': 'まだ', 'base': 'まだ', 'pos': '副詞', 'pos1': '助詞類接続'}, {'surface': '無い', 'base': '無い', 'pos': '形容詞', 'pos1': '自立'}, {'surface': '。', 'base': '。', 'pos': '記号', 'pos1': '句点'}] \n",
      "\n",
      "[{'surface': '\\u3000', 'base': '\\u3000', 'pos': '記号', 'pos1': '空白'}, {'surface': 'どこ', 'base': 'どこ', 'pos': '名詞', 'pos1': '代名詞'}, {'surface': 'で', 'base': 'で', 'pos': '助詞', 'pos1': '格助詞'}, {'surface': '生れ', 'base': '生れる', 'pos': '動詞', 'pos1': '自立'}, {'surface': 'た', 'base': 'た', 'pos': '助動詞', 'pos1': '*'}, {'surface': 'か', 'base': 'か', 'pos': '助詞', 'pos1': '副助詞／並立助詞／終助詞'}, {'surface': 'とんと', 'base': 'とんと', 'pos': '副詞', 'pos1': '一般'}, {'surface': '見当', 'base': '見当', 'pos': '名詞', 'pos1': 'サ変接続'}, {'surface': 'が', 'base': 'が', 'pos': '助詞', 'pos1': '格助詞'}, {'surface': 'つか', 'base': 'つく', 'pos': '動詞', 'pos1': '自立'}, {'surface': 'ぬ', 'base': 'ぬ', 'pos': '助動詞', 'pos1': '*'}, {'surface': '。', 'base': '。', 'pos': '記号', 'pos1': '句点'}] \n",
      "\n",
      "[{'surface': '何', 'base': '何', 'pos': '名詞', 'pos1': '代名詞'}, {'surface': 'でも', 'base': 'でも', 'pos': '助詞', 'pos1': '副助詞'}, {'surface': '薄暗い', 'base': '薄暗い', 'pos': '形容詞', 'pos1': '自立'}, {'surface': 'じめじめ', 'base': 'じめじめ', 'pos': '副詞', 'pos1': '一般'}, {'surface': 'し', 'base': 'する', 'pos': '動詞', 'pos1': '自立'}, {'surface': 'た', 'base': 'た', 'pos': '助動詞', 'pos1': '*'}, {'surface': '所', 'base': '所', 'pos': '名詞', 'pos1': '非自立'}, {'surface': 'で', 'base': 'で', 'pos': '助詞', 'pos1': '格助詞'}, {'surface': 'ニャーニャー', 'base': '*', 'pos': '名詞', 'pos1': '一般'}, {'surface': '泣い', 'base': '泣く', 'pos': '動詞', 'pos1': '自立'}, {'surface': 'て', 'base': 'て', 'pos': '助詞', 'pos1': '接続助詞'}, {'surface': 'いた事', 'base': 'いた事', 'pos': '名詞', 'pos1': '一般'}, {'surface': 'だけ', 'base': 'だけ', 'pos': '助詞', 'pos1': '副助詞'}, {'surface': 'は', 'base': 'は', 'pos': '助詞', 'pos1': '係助詞'}, {'surface': '記憶', 'base': '記憶', 'pos': '名詞', 'pos1': 'サ変接続'}, {'surface': 'し', 'base': 'する', 'pos': '動詞', 'pos1': '自立'}, {'surface': 'て', 'base': 'て', 'pos': '助詞', 'pos1': '接続助詞'}, {'surface': 'いる', 'base': 'いる', 'pos': '動詞', 'pos1': '非自立'}, {'surface': '。', 'base': '。', 'pos': '記号', 'pos1': '句点'}] \n",
      "\n",
      "[{'surface': '吾輩', 'base': '吾輩', 'pos': '名詞', 'pos1': '代名詞'}, {'surface': 'は', 'base': 'は', 'pos': '助詞', 'pos1': '係助詞'}, {'surface': 'ここ', 'base': 'ここ', 'pos': '名詞', 'pos1': '代名詞'}, {'surface': 'で', 'base': 'で', 'pos': '助詞', 'pos1': '格助詞'}, {'surface': '始め', 'base': '始める', 'pos': '動詞', 'pos1': '自立'}, {'surface': 'て', 'base': 'て', 'pos': '助詞', 'pos1': '接続助詞'}, {'surface': '人間', 'base': '人間', 'pos': '名詞', 'pos1': '一般'}, {'surface': 'という', 'base': 'という', 'pos': '助詞', 'pos1': '格助詞'}, {'surface': 'もの', 'base': 'もの', 'pos': '名詞', 'pos1': '非自立'}, {'surface': 'を', 'base': 'を', 'pos': '助詞', 'pos1': '格助詞'}, {'surface': '見', 'base': '見る', 'pos': '動詞', 'pos1': '自立'}, {'surface': 'た', 'base': 'た', 'pos': '助動詞', 'pos1': '*'}, {'surface': '。', 'base': '。', 'pos': '記号', 'pos1': '句点'}] \n",
      "\n"
     ]
    }
   ],
   "source": [
    "#形態素解析結果を読み込む関数 analyze_neko()\n",
    "#sentenceというリストに、１文ごとの表層形と形態素を格納\n",
    "#ジェネレータで１文が終わるごとに新しいリストを作りたい\n",
    "\n",
    "import re\n",
    "\n",
    "def analyze_neko():\n",
    "    with open(\"neko.txt.mecab\") as f:\n",
    "        sentence = []\n",
    "        for line in f:\n",
    "       \n",
    "            #re.split()　\\t ,\\n で分割し、dataというリストを返す\n",
    "            #line=line.rstrip()で空白が消えるよ！EOSの行は形態素がないからdata[0]にする必要なくない？\n",
    "            #if line ==\"EOS\":ってすると無駄な処理消えるよ\n",
    "            '''\n",
    "            例えば\n",
    "            if line ==\"EOS\":\n",
    "               yield\n",
    "               s = []\n",
    "            elif line  == \"\"\n",
    "               continue\n",
    "            else:\n",
    "               data = ここでsplit\n",
    "            '''\n",
    "            \n",
    "            data = re.split(r\"[\\t,\\n]\",line)\n",
    "            \n",
    "            surface = data[0]\n",
    "            \n",
    "            #表層形がEOS以外の時、形態素を格納したdicをsentenceに追加する\n",
    "            if surface != \"EOS\":\n",
    "                dic = {\"surface\":data[0],\"base\":data[7],\"pos\":data[1],\"pos1\":data[2]}\n",
    "                sentence.append(dic)\n",
    "                \n",
    "            #表層形がEOSの時、ジェネレーターでsentenceを返した後にsentenceというリストを空にする\n",
    "            else:\n",
    "                yield sentence\n",
    "                sentence = []\n",
    "                #.clearでリストが空になる\n",
    "               #continue いらない、なぜならEOSで次の行に行くから！\n",
    "                \n",
    "            \n",
    "count  = 0\n",
    "for sentence in analyze_neko():\n",
    "    #sentenceが空だったらprintしない\n",
    "    if sentence == []:\n",
    "        continue\n",
    "    if count > 5:\n",
    "        break\n",
    "    print(sentence,\"\\n\")\n",
    "    count += 1\n",
    "    \n",
    "#isliceが使える！ \n",
    "#if sentence != []: →print\n"
   ]
  },
  {
   "cell_type": "markdown",
   "metadata": {},
   "source": [
    "31.動詞\n",
    "動詞の表層形をすべて抽出せよ．"
   ]
  },
  {
   "cell_type": "code",
   "execution_count": 5,
   "metadata": {},
   "outputs": [
    {
     "name": "stdout",
     "output_type": "stream",
     "text": [
      "['生れ', 'つか', 'し', '泣い', 'し', 'いる', '始め', '見', '聞く', '捕え']\n"
     ]
    }
   ],
   "source": [
    "result = analyze_neko()\n",
    "\n",
    "verb_surface = [] #sいるよ\n",
    "for sentence in result:\n",
    "    for morpheme in sentence:\n",
    "        if morpheme[\"pos\"] == \"動詞\":\n",
    "            verb_surface.append(morpheme[\"surface\"])\n",
    "            \n",
    "#なんと内包表記で1行で書けちゃうらしい\n",
    "#[morpheme[\"surface\"] for sentence in result for morpheme in sentence if morpheme[\"pos\"] == \"動詞\"]\n",
    "\n",
    "\n",
    "print(verb_surface[:10])\n",
    "                "
   ]
  },
  {
   "cell_type": "markdown",
   "metadata": {},
   "source": [
    "32.動詞の原形\n",
    "動詞の原形をすべて抽出せよ．"
   ]
  },
  {
   "cell_type": "code",
   "execution_count": 6,
   "metadata": {},
   "outputs": [
    {
     "name": "stdout",
     "output_type": "stream",
     "text": [
      "['生れる', 'つく', 'する', '泣く', 'する', 'いる', '始める', '見る', '聞く', '捕える']\n"
     ]
    }
   ],
   "source": [
    "result = analyze_neko()\n",
    "\n",
    "verb_base = []\n",
    "for sentence in result:\n",
    "    for morpheme in sentence:\n",
    "        if morpheme[\"pos\"] == \"動詞\":\n",
    "            verb_base.append(morpheme[\"base\"])\n",
    "\n",
    "print(verb_base[:10])             "
   ]
  },
  {
   "cell_type": "markdown",
   "metadata": {},
   "source": [
    "33.「AのB」\n",
    "2つの名詞が「の」で連結されている名詞句を抽出せよ．"
   ]
  },
  {
   "cell_type": "code",
   "execution_count": 7,
   "metadata": {},
   "outputs": [
    {
     "name": "stdout",
     "output_type": "stream",
     "text": [
      "['彼の掌', '掌の上', '書生の顔', 'はずの顔', '顔の真中', '穴の中', '書生の掌', '掌の裏', '何の事', '肝心の母親']\n"
     ]
    }
   ],
   "source": [
    "result = analyze_neko() #なくてもいいよ\n",
    "\n",
    "#名詞+の(助詞+名詞\n",
    "noun_phrase = []\n",
    "for sentence in result:\n",
    "    #3つの形態素をひとまとまりで考えるので、名詞句を探すのは(sentence-2)の長さの範囲\n",
    "    for i in range(len(sentence)-2):\n",
    "        if sentence[i][\"pos\"] == \"名詞\" and sentence[i+1][\"base\"] == \"の\" and sentence[i+2][\"pos\"] == \"名詞\":\n",
    "            noun_phrase.append(sentence[i][\"surface\"]+sentence[i+1][\"surface\"]+sentence[i+2][\"surface\"])\n",
    "\n",
    "print(noun_phrase[:10])\n"
   ]
  },
  {
   "cell_type": "markdown",
   "metadata": {},
   "source": [
    "*34.名詞の連接 \n",
    "名詞の連接（連続して出現する名詞）を最長一致で抽出せよ．*"
   ]
  },
  {
   "cell_type": "code",
   "execution_count": 8,
   "metadata": {},
   "outputs": [
    {
     "name": "stdout",
     "output_type": "stream",
     "text": [
      "['人間中', '一番獰悪', '時妙', '一毛', 'その後猫', '一度', 'ぷうぷうと煙', '邸内', '三毛', '書生以外']\n"
     ]
    }
   ],
   "source": [
    "result = analyze_neko()\n",
    "series_of_noun = []\n",
    "nouns = []\n",
    "\n",
    "for sentence in result:\n",
    "    for morpheme in sentence:\n",
    "        #形態素が名詞の時、名詞をnounsというリストに溜める\n",
    "        if morpheme[\"pos\"] == \"名詞\":\n",
    "            nouns.append(morpheme[\"surface\"])\n",
    "            \n",
    "            #形態素が名詞で名詞と連接する、かつ文末に来る時\n",
    "            #nounsに名詞を溜めたのちにリストを空にする\n",
    "            \n",
    "            \n",
    "            \n",
    "        elif len(nouns)>1:\n",
    "            series_of_noun.append(\"\".join(nouns))\n",
    "            nouns = []\n",
    "            #名詞以外の形態素,あるいは名詞が連接しない時\n",
    "            #nouns内の名詞をひとまとまりに直してからリストを空にする\n",
    "            \n",
    "            #elifにする→その時はelseを置く\n",
    "        else:\n",
    "            nouns = []\n",
    "            \n",
    "    if len(nouns)>1:\n",
    "        series_of_noun.append(\"\".join(nouns))\n",
    "        nouns = []\n",
    "        #if sentence[-1]~いらない 、for分の外に出す   \n",
    "\n",
    "print(series_of_noun[:10])\n",
    "\n",
    "#複合名詞：compound_nouns\n",
    "\n",
    "#for nouns in islise(nounslist,10):"
   ]
  },
  {
   "cell_type": "markdown",
   "metadata": {},
   "source": [
    "35.単語の出現頻度\n",
    ">文章中に出現する単語とその出現頻度を求め，出現頻度の高い順に並べよ．"
   ]
  },
  {
   "cell_type": "code",
   "execution_count": 10,
   "metadata": {},
   "outputs": [
    {
     "name": "stdout",
     "output_type": "stream",
     "text": [
      "[('の', 9194), ('て', 6848), ('は', 6420), ('に', 6243), ('を', 6071), ('だ', 5975), ('と', 5508), ('が', 5337), ('た', 4267), ('する', 3657)]\n"
     ]
    }
   ],
   "source": [
    "#単語→自立形態素と非自立形態素に分けられるようだが、これはどう判別できるのか？\n",
    "#表層形をみるのかそれとも基本形をみるのか？→基本形で出現頻度を求めてみる\n",
    "#collectionモジュールのCounterオブジェクトでリストの要素の個数をカウントできる\n",
    "\n",
    "from collections import Counter\n",
    "result = analyze_neko()\n",
    "words_base = []\n",
    "\n",
    "for sentence in result:\n",
    "    for morpheme in sentence:\n",
    "        if morpheme[\"pos\"] != \"記号\":\n",
    "            words_base.append(morpheme[\"base\"])\n",
    "            #内包表記しよう！！！\n",
    "        \n",
    "#あとで使いやすくするために名前をつける\n",
    "frequency = Counter(words_base).most_common()\n",
    "print(frequency[:10])"
   ]
  },
  {
   "cell_type": "markdown",
   "metadata": {},
   "source": [
    "***36. 頻度上位10語\n",
    "出現頻度が高い10語とその出現頻度をグラフ（例えば棒グラフなど）で表示せよ．***"
   ]
  },
  {
   "cell_type": "code",
   "execution_count": 12,
   "metadata": {},
   "outputs": [
    {
     "name": "stdout",
     "output_type": "stream",
     "text": [
      "['Hiragino Sans']\n"
     ]
    }
   ],
   "source": [
    "#rcParamsというオブジェクトにあるデフォルト設定を確認すると、フォントはsans-serifになっており、日本語は文字化けする\n",
    "import matplotlib as mpl\n",
    "print(mpl.rcParams['font.family'])"
   ]
  },
  {
   "cell_type": "code",
   "execution_count": 13,
   "metadata": {},
   "outputs": [
    {
     "name": "stdout",
     "output_type": "stream",
     "text": [
      "['/System/Library/Fonts/ZapfDingbats.ttf', '/Library/Fonts/DIN Alternate Bold.ttf', '/Library/Fonts/KufiStandardGK.ttc', '/System/Library/Fonts/KohinoorBangla.ttc', '/System/Library/Fonts/SFCompactDisplay-Heavy.otf', '/Library/Fonts/Mishafi Gold.ttf', '/Library/Fonts/Comic Sans MS Bold.ttf', '/Library/Fonts/Oriya Sangam MN.ttc', '/System/Library/Fonts/Keyboard.ttf', '/Library/Fonts/Kailasa.ttc']\n"
     ]
    }
   ],
   "source": [
    "#フォントファイルのリストを調べる\n",
    "import matplotlib.font_manager\n",
    "print(matplotlib.font_manager.findSystemFonts(fontpaths=None,fontext='ttf')[:10])\n",
    "#長いので省略して表示"
   ]
  },
  {
   "cell_type": "code",
   "execution_count": 14,
   "metadata": {},
   "outputs": [
    {
     "name": "stdout",
     "output_type": "stream",
     "text": [
      "['cmr10', 'DejaVu Sans Mono', 'STIXSizeFourSym', 'DejaVu Sans Mono', 'STIXSizeFourSym', 'DejaVu Sans', 'STIXGeneral', 'DejaVu Sans', 'STIXSizeThreeSym', 'DejaVu Sans Mono']\n"
     ]
    }
   ],
   "source": [
    "#フォントの指定方法を調べる\n",
    "import matplotlib.font_manager\n",
    "print([f.name for f in matplotlib.font_manager.fontManager.ttflist][:10])\n",
    "#長いので省略して表示"
   ]
  },
  {
   "cell_type": "code",
   "execution_count": 32,
   "metadata": {},
   "outputs": [
    {
     "data": {
      "image/png": "[encoded data removed]",
      "text/plain": [
       "<Figure size 432x288 with 1 Axes>"
      ]
     },
     "metadata": {
      "needs_background": "light"
     },
     "output_type": "display_data"
    }
   ],
   "source": [
    "#matplotlibはpythonの描画ライブラリ。pyplotはその中のモジュール。\n",
    "\n",
    "import matplotlib as mpl\n",
    "import matplotlib.pyplot as plt\n",
    "\n",
    "words,figures = list(zip(*frequency))\n",
    "#[('の', 'て', 'は',...),(9194, 6848, 6420,...)]\n",
    "\n",
    "#日本語が文字化けしないフォントを指定\n",
    "mpl.rcParams[\"font.family\"] = \"Hiragino Sans\"\n",
    "\n",
    "x = words[:10]\n",
    "y = figures[:10]\n",
    "fig = plt.figure()\n",
    "ax = fig.add_subplot()\n",
    "ax.bar(x,y)\n",
    "ax.set_title(\"出現頻度が高い１０単語\")\n",
    "ax.set_xlabel(\"単語\")\n",
    "ax.set_ylabel(\"出現回数\")\n",
    "\n",
    "plt.show()"
   ]
  },
  {
   "cell_type": "markdown",
   "metadata": {},
   "source": [
    "37.「猫」と共起頻度の高い上位10位\n",
    ">「猫」とよく共起する（共起頻度が高い）10語とその出現頻度をグラフ（例えば棒グラフなど）で表示せよ．"
   ]
  },
  {
   "cell_type": "code",
   "execution_count": 77,
   "metadata": {},
   "outputs": [
    {
     "name": "stdout",
     "output_type": "stream",
     "text": [
      "[('の', 391), ('は', 272), ('に', 250), ('を', 232), ('だ', 231), ('て', 229), ('と', 202), ('が', 180), ('する', 144), ('た', 140)]\n"
     ]
    },
    {
     "data": {
      "image/png": "[encoded data removed]",
      "text/plain": [
       "<Figure size 432x288 with 1 Axes>"
      ]
     },
     "metadata": {
      "needs_background": "light"
     },
     "output_type": "display_data"
    }
   ],
   "source": [
    "#共起するということは、「猫」を含む文章に出現する単語のことだと解釈\n",
    "#ここでは基本形で考えることにする\n",
    "\n",
    "article = analyze_neko()\n",
    "from collections import Counter\n",
    "cooccur_with_neko = []\n",
    "\n",
    "#「猫」を含む文を抽出し、猫以外の単語をリストに結合してカウントする\n",
    "for sentence in article:\n",
    "        if any(morph[\"base\"] == \"猫\" for morph in sentence):\n",
    "            words = [morph[\"base\"] for morph in sentence if morph[\"pos\"] != \"記号\" and morph[\"base\"] != \"猫\"]\n",
    "            cooccur_with_neko.extend(words) \n",
    "            \n",
    "frequency_cooccur_with_neko = Counter(cooccur_with_neko).most_common()\n",
    "print(frequency_cooccur_with_neko[:10])\n",
    "\n",
    "#出現頻度の可視化\n",
    "words,figures = list(zip(*frequency_cooccur_with_neko))\n",
    "#[('の', 'て', 'は',...),(391,272, 250,...)]\n",
    "\n",
    "#日本語が文字化けしないフォントを指定\n",
    "mpl.rcParams[\"font.family\"] = \"Hiragino Sans\"\n",
    "\n",
    "x = words[:10]\n",
    "y = figures[:10]\n",
    "fig = plt.figure()\n",
    "ax = fig.add_subplot()\n",
    "ax.bar(x,y)\n",
    "ax.set_title(\"37.「猫」との共起頻度が高い１０単語\")\n",
    "ax.set_xlabel(\"単語\")\n",
    "ax.set_ylabel(\"出現回数\")\n",
    "\n",
    "plt.show()\n"
   ]
  },
  {
   "cell_type": "markdown",
   "metadata": {},
   "source": [
    "38.ヒストグラム\n",
    ">単語の出現頻度のヒストグラムを描け．ただし，横軸は出現頻度を表し，1から単語の出現頻度の最大値までの線形目盛とする．縦軸はx軸で示される出現頻度となった単語の異なり数（種類数）である．"
   ]
  },
  {
   "cell_type": "code",
   "execution_count": 75,
   "metadata": {},
   "outputs": [
    {
     "data": {
      "image/png": "[encoded data removed]",
      "text/plain": [
       "<Figure size 432x288 with 1 Axes>"
      ]
     },
     "metadata": {
      "needs_background": "light"
     },
     "output_type": "display_data"
    }
   ],
   "source": [
    "#words,figures = list(zip(*frequency))\n",
    "\n",
    "words,figures = list(zip(*frequency))\n",
    "#[('の', 'て', 'は',...),(9194, 6848, 6420,...)]\n",
    "\n",
    "fig = plt.figure()\n",
    "ax = fig.add_subplot()\n",
    "ax.hist(figures,bins=50,range = (1,30),align='left',width=1.2)\n",
    "mpl.rcParams[\"axes.xmargin\"] = 0\n",
    "ax.set_title(\"38.単語の出現頻度のヒストグラム\")\n",
    "ax.set_xlabel(\"出現頻度\")\n",
    "ax.set_ylabel(\"単語の種類数\")\n",
    "\n",
    "plt.show()"
   ]
  },
  {
   "cell_type": "markdown",
   "metadata": {},
   "source": [
    "39.Zipfの法則\n",
    ">単語の出現頻度順位を横軸，その出現頻度を縦軸として，両対数グラフをプロットせよ．"
   ]
  },
  {
   "cell_type": "code",
   "execution_count": 45,
   "metadata": {},
   "outputs": [
    {
     "data": {
      "image/png": "[encoded data removed]",
      "text/plain": [
       "<Figure size 432x288 with 1 Axes>"
      ]
     },
     "metadata": {
      "needs_background": "light"
     },
     "output_type": "display_data"
    }
   ],
   "source": [
    "#両対数グラフ→グラフの両方の軸が対数目盛になっているグラフ\n",
    "#words,figures = list(zip(*frequency)\n",
    "number_of_appearance = list(zip(*frequency))[1]\n",
    "\n",
    "#順位情報、頻度情報のリストを用意、x,yとして引数に指定する\n",
    "\n",
    "plt.plot(number_of_appearance)\n",
    "plt.xscale(\"log\")\n",
    "plt.yscale(\"log\")\n",
    "plt.title(\"39.両対数グラフ\")\n",
    "plt.xlabel(\"出現頻度順位\")\n",
    "plt.ylabel(\"出現頻度\")\n",
    "\n",
    "plt.show()"
   ]
  },
  {
   "cell_type": "code",
   "execution_count": null,
   "metadata": {},
   "outputs": [],
   "source": []
  }
 ],
 "metadata": {
  "kernelspec": {
   "display_name": "Python 3",
   "language": "python",
   "name": "python3"
  },
  "language_info": {
   "codemirror_mode": {
    "name": "ipython",
    "version": 3
   },
   "file_extension": ".py",
   "mimetype": "text/x-python",
   "name": "python",
   "nbconvert_exporter": "python",
   "pygments_lexer": "ipython3",
   "version": "3.7.3"
  }
 },
 "nbformat": 4,
 "nbformat_minor": 4
}
